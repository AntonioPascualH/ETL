{
  "nbformat": 4,
  "nbformat_minor": 0,
  "metadata": {
    "kernelspec": {
      "display_name": "Python 3",
      "language": "python",
      "name": "python3"
    },
    "language_info": {
      "codemirror_mode": {
        "name": "ipython",
        "version": 3
      },
      "file_extension": ".py",
      "mimetype": "text/x-python",
      "name": "python",
      "nbconvert_exporter": "python",
      "pygments_lexer": "ipython3",
      "version": "3.8.3"
    },
    "colab": {
      "name": "examen1920v2.ipynb",
      "provenance": [],
      "collapsed_sections": [],
      "toc_visible": true
    }
  },
  "cells": [
    {
      "cell_type": "markdown",
      "metadata": {
        "id": "vHgQ6N6ey7Od"
      },
      "source": [
        "## 1. The World Bank's international debt data\n",
        "<p>No es que los humanos solo tengamos deudas para administrar nuestras necesidades. Un país también puede endeudarse para administrar su economía. Por ejemplo, el gasto en infraestructura es un ingrediente costoso requerido para que los ciudadanos de un país lleven una vida cómoda. El Banco Mundial es la organización que proporciona deuda a los países.</p>\n",
        "\n",
        "<!-- <p>En este notebook, vamos a analizar los datos de la deuda internacional recopilados por el Banco Mundial. El conjunto de datos contiene información sobre el monto de la deuda (en USD) que deben los países en desarrollo en varias categorías.</p>  -->\n",
        "    "
      ]
    },
    {
      "cell_type": "markdown",
      "metadata": {
        "id": "1P3Hlxeny7Or"
      },
      "source": [
        "\"Disbursements on external debt, long-term (DIS, current US$)\",DT.DIS.DLXF.CD\n",
        "\"Interest payments on external debt, long-term (INT, current US$)\",DT.INT.DLXF.CD\n",
        "\"PPG, bilateral (AMT, current US$)\",DT.AMT.BLAT.CD\n",
        "\"PPG, bilateral (DIS, current US$)\",DT.DIS.BLAT.CD\n",
        "\"PPG, bilateral (INT, current US$)\",DT.INT.BLAT.CD\n",
        "\"PPG, multilateral (AMT, current US$)\",DT.AMT.MLAT.CD\n",
        "\"PPG, multilateral (DIS, current US$)\",DT.DIS.MLAT.CD\n",
        "\"PPG, multilateral (INT, current US$)\",DT.INT.MLAT.CD\n",
        "\"PPG, official creditors (AMT, current US$)\",DT.AMT.OFFT.CD\n",
        "\"PPG, official creditors (DIS, current US$)\",DT.DIS.OFFT.CD\n",
        "\"PPG, official creditors (INT, current US$)\",DT.INT.OFFT.CD\n",
        "\"Principal repayments on external debt, long-term (AMT, current US$)\",DT.AMT.DLXF.CD\n",
        "\"Interest payments on external debt, private nonguaranteed (PNG) (INT, current US$)\",DT.INT.DPNG.CD\n",
        "\"PPG, bonds (AMT, current US$)\",DT.AMT.PBND.CD\n",
        "\"PPG, bonds (INT, current US$)\",DT.INT.PBND.CD\n",
        "\"PPG, commercial banks (AMT, current US$)\",DT.AMT.PCBK.CD\n",
        "\"PPG, commercial banks (DIS, current US$)\",DT.DIS.PCBK.CD\n",
        "\"PPG, commercial banks (INT, current US$)\",DT.INT.PCBK.CD\n",
        "\"PPG, other private creditors (AMT, current US$)\",DT.AMT.PROP.CD\n",
        "\"PPG, other private creditors (DIS, current US$)\",DT.DIS.PROP.CD\n",
        "\"PPG, other private creditors (INT, current US$)\",DT.INT.PROP.CD\n",
        "\"PPG, private creditors (AMT, current US$)\",DT.AMT.PRVT.CD\n",
        "\"PPG, private creditors (DIS, current US$)\",DT.DIS.PRVT.CD\n",
        "\"PPG, private creditors (INT, current US$)\",DT.INT.PRVT.CD\n",
        "\"Principal repayments on external debt, private nonguaranteed (PNG) (AMT, current US$)\",DT.AMT.DPNG.CD"
      ]
    },
    {
      "cell_type": "markdown",
      "metadata": {
        "id": "qB4erYWdy7Ot"
      },
      "source": [
        "<p>Vamos a encontrar las respuestas a preguntas como:\n",
        "\n",
        "<p>¿Cuál es el monto total de la deuda que deben los países enumerados en el conjunto de datos?\n",
        "<p>¿Qué país posee la cantidad máxima de deuda y cómo se ve esa cantidad?\n",
        "<p>¿Cuál es el monto promedio de la deuda de los países a través de diferentes indicadores de deuda?\n",
        "    \n",
        "Además tenemos otro dataset en el que encontramos información histórica de algunos índices de desarrollo, entre los que se encuentran algunos de deuda como son:"
      ]
    },
    {
      "cell_type": "markdown",
      "metadata": {
        "id": "KEjrBmVCy7Ou"
      },
      "source": [
        "Series Name,Series Code\n",
        "\"Birth rate, crude (per 1,000 people)\",SP.DYN.CBRT.IN\n",
        "\n",
        "\"Central government debt, total (current LCU)\",GC.DOD.TOTL.CN\n",
        "\n",
        "\"Central government debt, total (% of GDP)\",GC.DOD.TOTL.GD.ZS"
      ]
    },
    {
      "cell_type": "markdown",
      "metadata": {
        "id": "Cx1gZKony7Ou"
      },
      "source": [
        "#### 1. Inicializar y cargar el contexto spark"
      ]
    },
    {
      "cell_type": "code",
      "metadata": {
        "id": "cPv4xZZ4y7Ov"
      },
      "source": [
        "!apt-get install openjdk-8-jdk-headless -qq > /dev/null\n",
        "!wget -q https://www-us.apache.org/dist/spark/spark-2.4.7/spark-2.4.7-bin-hadoop2.7.tgz\n",
        "!tar xf spark-2.4.7-bin-hadoop2.7.tgz #d\n",
        "!pip install -q findspark \n",
        "\n",
        "import os\n",
        "os.environ[\"JAVA_HOME\"] = \"/usr/lib/jvm/java-8-openjdk-amd64\"\n",
        "os.environ[\"SPARK_HOME\"] = \"/content/spark-2.4.7-bin-hadoop2.7\"\n",
        "\n",
        "import findspark\n",
        "findspark.init()\n",
        "from pyspark import SparkContext\n",
        "sc = SparkContext()\n",
        "from pyspark.sql import SparkSession\n",
        "spark = SparkSession.builder.master(\"local[*]\").getOrCreate()"
      ],
      "execution_count": 1,
      "outputs": []
    },
    {
      "cell_type": "markdown",
      "metadata": {
        "id": "v3gDuMtqQJmV"
      },
      "source": [
        "A continuación se cargarán los datasets:"
      ]
    },
    {
      "cell_type": "code",
      "metadata": {
        "colab": {
          "base_uri": "https://localhost:8080/"
        },
        "id": "8P-5CTMxQOM8",
        "outputId": "76143e4a-e1cd-4c90-f84a-d8c12bfd9fb5"
      },
      "source": [
        "desa = sc.textFile(\"indicadores_desarrollo.csv\")\r\n",
        "desa.take(10)"
      ],
      "execution_count": 2,
      "outputs": [
        {
          "output_type": "execute_result",
          "data": {
            "text/plain": [
              "['country_name,country_code,anho,GC.DOD.TOTL.CN,GC.DOD.TOTL.GD.ZS,SP.DYN.CBRT.IN',\n",
              " 'Albania,ALB,2014 [YR2014],1023040800000,73.3202469198429,12.259',\n",
              " 'Albania,ALB,2015 [YR2015],1145500940000,79.8644448747259,12.197',\n",
              " 'Albania,ALB,2016 [YR2016],1188814490000,80.7355748396923,12.08',\n",
              " 'Australia,AUS,2014 [YR2014],674700000,0.042207528166503,13.2',\n",
              " 'Australia,AUS,2015 [YR2015],762718000,0.0469480198522591,12.9',\n",
              " 'Australia,AUS,2016 [YR2016],907555000,0.054648482520169,12.9',\n",
              " '\"Bahamas, The\",BHS,2014 [YR2014],5158420000,47.2672793747079,14.34',\n",
              " '\"Bahamas, The\",BHS,2015 [YR2015],5655150000,48.1195170307089,14.224',\n",
              " '\"Bahamas, The\",BHS,2016 [YR2016],6138814000,51.4207431481606,14.131']"
            ]
          },
          "metadata": {
            "tags": []
          },
          "execution_count": 2
        }
      ]
    },
    {
      "cell_type": "code",
      "metadata": {
        "colab": {
          "base_uri": "https://localhost:8080/"
        },
        "id": "kUdvdpaLQZei",
        "outputId": "b5d09305-8ee0-41d4-dca0-a90a2d63f1ba"
      },
      "source": [
        "desa_sep = desa.map(lambda x: x.split(\",\")) #separamos por la coma\r\n",
        "header = desa_sep.first()\r\n",
        "desa_sep = desa_sep.filter(lambda x: x != header) #eliminamos la primera fila, que hace referencia al encabezado\r\n",
        "desa_sep.take(5)"
      ],
      "execution_count": 3,
      "outputs": [
        {
          "output_type": "execute_result",
          "data": {
            "text/plain": [
              "[['Albania',\n",
              "  'ALB',\n",
              "  '2014 [YR2014]',\n",
              "  '1023040800000',\n",
              "  '73.3202469198429',\n",
              "  '12.259'],\n",
              " ['Albania',\n",
              "  'ALB',\n",
              "  '2015 [YR2015]',\n",
              "  '1145500940000',\n",
              "  '79.8644448747259',\n",
              "  '12.197'],\n",
              " ['Albania',\n",
              "  'ALB',\n",
              "  '2016 [YR2016]',\n",
              "  '1188814490000',\n",
              "  '80.7355748396923',\n",
              "  '12.08'],\n",
              " ['Australia',\n",
              "  'AUS',\n",
              "  '2014 [YR2014]',\n",
              "  '674700000',\n",
              "  '0.042207528166503',\n",
              "  '13.2'],\n",
              " ['Australia',\n",
              "  'AUS',\n",
              "  '2015 [YR2015]',\n",
              "  '762718000',\n",
              "  '0.0469480198522591',\n",
              "  '12.9']]"
            ]
          },
          "metadata": {
            "tags": []
          },
          "execution_count": 3
        }
      ]
    },
    {
      "cell_type": "code",
      "metadata": {
        "colab": {
          "base_uri": "https://localhost:8080/"
        },
        "id": "jqM3iFCnQ73e",
        "outputId": "8e77b8e1-0b46-45ba-e6d6-ec1fcaf61611"
      },
      "source": [
        "deuda = sc.textFile(\"indicadores_deuda.csv\")\r\n",
        "deuda.take(5)"
      ],
      "execution_count": 4,
      "outputs": [
        {
          "output_type": "execute_result",
          "data": {
            "text/plain": [
              "['country_name,country_code,DT.AMT.BLAT.CD,DT.AMT.DLXF.CD,DT.AMT.DPNG.CD,DT.AMT.MLAT.CD,DT.AMT.OFFT.CD,DT.AMT.PBND.CD,DT.AMT.PCBK.CD,DT.AMT.PROP.CD,DT.AMT.PRVT.CD,DT.DIS.BLAT.CD,DT.DIS.DLXF.CD,DT.DIS.MLAT.CD,DT.DIS.OFFT.CD,DT.DIS.PCBK.CD,DT.DIS.PROP.CD,DT.DIS.PRVT.CD,DT.INT.BLAT.CD,DT.INT.DLXF.CD,DT.INT.DPNG.CD,DT.INT.MLAT.CD,DT.INT.OFFT.CD,DT.INT.PBND.CD,DT.INT.PCBK.CD,DT.INT.PROP.CD,DT.INT.PRVT.CD',\n",
              " 'Afghanistan,AFG,61739336.9,100847181.9,,39107845,100847181.9,,,,,49114729.4,72894453.7,23779724.3,72894453.7,,,,39903620.1,53239440.1,,13335820,53239440.1,,,,',\n",
              " 'Albania,ALB,54250280.6,790248675.2,514185620,182197616.7,236447897.3,0,39445139.5,170018.4,39615157.9,76050616.1,317194512.5,234321242.3,310371858.4,4542664.9,2279989.2,6822654.1,13847333.6,165602386.9,87884000,28101536.1,41948869.7,31030688.2,4618504.3,120324.7,35769517.2',\n",
              " 'Algeria,DZA,95188724.6,171185188.1,75420000,0,95188724.6,,576463.5,0,576463.5,10320772.2,10320772.2,,10320772.2,,,,7680627.6,19031728.7,3220000,8094779,15775406.6,,13192.3,23129.8,36322.1',\n",
              " 'Angola,AGO,8473824016.3,11067045628.1,,124688691.9,8598512708.2,1e+09,1125088719.9,343444200,2468532919.9,8838256901.1,10924018093.1,178989598.2,9017246499.3,1906771593.8,,1906771593.8,1005053965.1,1798550445.5,,47038476.1,1052092441.2,7e+07,580902004.3,95556000,746458004.3']"
            ]
          },
          "metadata": {
            "tags": []
          },
          "execution_count": 4
        }
      ]
    },
    {
      "cell_type": "code",
      "metadata": {
        "colab": {
          "base_uri": "https://localhost:8080/"
        },
        "id": "vLSFK8K3Q8Fm",
        "outputId": "f6d9031a-fa49-4b83-9c94-9cc019a4762f"
      },
      "source": [
        "first_row = deuda.take(1)[0]\r\n",
        "deuda = deuda.filter(lambda x: x != first_row) #se realiza el mismo proceso de eliminar el encabezado\r\n",
        "deuda = deuda.map(lambda x: x.split(\",\")) #se separan los datos a partir de las comas\r\n",
        "deuda.take(5)"
      ],
      "execution_count": 5,
      "outputs": [
        {
          "output_type": "execute_result",
          "data": {
            "text/plain": [
              "[['Afghanistan',\n",
              "  'AFG',\n",
              "  '61739336.9',\n",
              "  '100847181.9',\n",
              "  '',\n",
              "  '39107845',\n",
              "  '100847181.9',\n",
              "  '',\n",
              "  '',\n",
              "  '',\n",
              "  '',\n",
              "  '49114729.4',\n",
              "  '72894453.7',\n",
              "  '23779724.3',\n",
              "  '72894453.7',\n",
              "  '',\n",
              "  '',\n",
              "  '',\n",
              "  '39903620.1',\n",
              "  '53239440.1',\n",
              "  '',\n",
              "  '13335820',\n",
              "  '53239440.1',\n",
              "  '',\n",
              "  '',\n",
              "  '',\n",
              "  ''],\n",
              " ['Albania',\n",
              "  'ALB',\n",
              "  '54250280.6',\n",
              "  '790248675.2',\n",
              "  '514185620',\n",
              "  '182197616.7',\n",
              "  '236447897.3',\n",
              "  '0',\n",
              "  '39445139.5',\n",
              "  '170018.4',\n",
              "  '39615157.9',\n",
              "  '76050616.1',\n",
              "  '317194512.5',\n",
              "  '234321242.3',\n",
              "  '310371858.4',\n",
              "  '4542664.9',\n",
              "  '2279989.2',\n",
              "  '6822654.1',\n",
              "  '13847333.6',\n",
              "  '165602386.9',\n",
              "  '87884000',\n",
              "  '28101536.1',\n",
              "  '41948869.7',\n",
              "  '31030688.2',\n",
              "  '4618504.3',\n",
              "  '120324.7',\n",
              "  '35769517.2'],\n",
              " ['Algeria',\n",
              "  'DZA',\n",
              "  '95188724.6',\n",
              "  '171185188.1',\n",
              "  '75420000',\n",
              "  '0',\n",
              "  '95188724.6',\n",
              "  '',\n",
              "  '576463.5',\n",
              "  '0',\n",
              "  '576463.5',\n",
              "  '10320772.2',\n",
              "  '10320772.2',\n",
              "  '',\n",
              "  '10320772.2',\n",
              "  '',\n",
              "  '',\n",
              "  '',\n",
              "  '7680627.6',\n",
              "  '19031728.7',\n",
              "  '3220000',\n",
              "  '8094779',\n",
              "  '15775406.6',\n",
              "  '',\n",
              "  '13192.3',\n",
              "  '23129.8',\n",
              "  '36322.1'],\n",
              " ['Angola',\n",
              "  'AGO',\n",
              "  '8473824016.3',\n",
              "  '11067045628.1',\n",
              "  '',\n",
              "  '124688691.9',\n",
              "  '8598512708.2',\n",
              "  '1e+09',\n",
              "  '1125088719.9',\n",
              "  '343444200',\n",
              "  '2468532919.9',\n",
              "  '8838256901.1',\n",
              "  '10924018093.1',\n",
              "  '178989598.2',\n",
              "  '9017246499.3',\n",
              "  '1906771593.8',\n",
              "  '',\n",
              "  '1906771593.8',\n",
              "  '1005053965.1',\n",
              "  '1798550445.5',\n",
              "  '',\n",
              "  '47038476.1',\n",
              "  '1052092441.2',\n",
              "  '7e+07',\n",
              "  '580902004.3',\n",
              "  '95556000',\n",
              "  '746458004.3'],\n",
              " ['Armenia',\n",
              "  'ARM',\n",
              "  '68968314.7',\n",
              "  '845630723.8',\n",
              "  '680696190',\n",
              "  '94331207.1',\n",
              "  '163299521.8',\n",
              "  '0',\n",
              "  '1635012',\n",
              "  '',\n",
              "  '1635012',\n",
              "  '174269846.7',\n",
              "  '426959175.6',\n",
              "  '252689328.9',\n",
              "  '426959175.6',\n",
              "  '',\n",
              "  '',\n",
              "  '',\n",
              "  '24094832',\n",
              "  '275292981.1',\n",
              "  '128076000',\n",
              "  '57171463.9',\n",
              "  '81266295.9',\n",
              "  '65754000',\n",
              "  '196685.2',\n",
              "  '',\n",
              "  '65950685.2']]"
            ]
          },
          "metadata": {
            "tags": []
          },
          "execution_count": 5
        }
      ]
    },
    {
      "cell_type": "markdown",
      "metadata": {
        "id": "anmqKvuPy7Oy"
      },
      "source": [
        "##### 2. Número de países distintos en cada dataset. Coinciden?"
      ]
    },
    {
      "cell_type": "code",
      "metadata": {
        "id": "peSsMaJOz5cc"
      },
      "source": [
        "paises = deuda.map(lambda x: (x[0])) #se selecciona la primera columna del dataset \"deuda\", que indica el nombre de los paises"
      ],
      "execution_count": null,
      "outputs": []
    },
    {
      "cell_type": "code",
      "metadata": {
        "colab": {
          "base_uri": "https://localhost:8080/"
        },
        "id": "ZC3Q5EQO3Oho",
        "outputId": "89ea6481-1bf2-4c68-d19e-cc9042ba77f5"
      },
      "source": [
        "paises.distinct().count() #se cuenta el número de distintos paises"
      ],
      "execution_count": null,
      "outputs": [
        {
          "output_type": "execute_result",
          "data": {
            "text/plain": [
              "123"
            ]
          },
          "metadata": {
            "tags": []
          },
          "execution_count": 16
        }
      ]
    },
    {
      "cell_type": "code",
      "metadata": {
        "id": "Lb9qG1073Z2S"
      },
      "source": [
        "paises2 = desa_sep.map(lambda x: (x[0])) #se selecciona la primera columna del dataset \"desa_sep\", que indica el nombre de los paises"
      ],
      "execution_count": null,
      "outputs": []
    },
    {
      "cell_type": "code",
      "metadata": {
        "colab": {
          "base_uri": "https://localhost:8080/"
        },
        "id": "Fs2HSiYz4Y4L",
        "outputId": "5059810f-dcb7-4a2f-81d9-39f4c9c23d5a"
      },
      "source": [
        "paises2.distinct().count()"
      ],
      "execution_count": null,
      "outputs": [
        {
          "output_type": "execute_result",
          "data": {
            "text/plain": [
              "52"
            ]
          },
          "metadata": {
            "tags": []
          },
          "execution_count": 18
        }
      ]
    },
    {
      "cell_type": "markdown",
      "metadata": {
        "id": "5V4dwbdq4jj8"
      },
      "source": [
        "No coinciden el número de paises.\r\n"
      ]
    },
    {
      "cell_type": "markdown",
      "metadata": {
        "id": "qBcrilJVy7Oz"
      },
      "source": [
        "##### 3. Total de deuda contraida por cada pais: total amount of debt (in USD) DT.AMT.MLAT.CD"
      ]
    },
    {
      "cell_type": "code",
      "metadata": {
        "colab": {
          "base_uri": "https://localhost:8080/"
        },
        "id": "BOSC8Sg89FIN",
        "outputId": "745547ff-14c6-4ba3-c04e-1a6f15cb77b0"
      },
      "source": [
        "deuda_por_pais = deuda.map(lambda x: (x[0], x[5])) #se seleccionan las columnas que hacen referencia al nombre de los paises y DT.AMT.MLAT.CD\r\n",
        "deuda_por_pais.take(5) #se muestran las 5 primeras observaciones para comprobar que se ha realizado correctamente"
      ],
      "execution_count": null,
      "outputs": [
        {
          "output_type": "execute_result",
          "data": {
            "text/plain": [
              "[('Afghanistan', '39107845'),\n",
              " ('Albania', '182197616.7'),\n",
              " ('Algeria', '0'),\n",
              " ('Angola', '124688691.9'),\n",
              " ('Armenia', '94331207.1')]"
            ]
          },
          "metadata": {
            "tags": []
          },
          "execution_count": 20
        }
      ]
    },
    {
      "cell_type": "markdown",
      "metadata": {
        "id": "aNhMbS5ay7Oz"
      },
      "source": [
        "##### 4. Media de los indicadores de deuda (tabla uno): DT.AMT.BLAT.CD, DT.DIS.BLAT.CD, DT.INT.BLAT.CD"
      ]
    },
    {
      "cell_type": "code",
      "metadata": {
        "id": "XTr2NIpL8qfl"
      },
      "source": [
        "from pyspark.sql import SQLContext"
      ],
      "execution_count": null,
      "outputs": []
    },
    {
      "cell_type": "code",
      "metadata": {
        "colab": {
          "base_uri": "https://localhost:8080/"
        },
        "id": "MgtSM-MJ_IQx",
        "outputId": "58de5fd9-87bf-4b96-a6a1-7552e47582b9"
      },
      "source": [
        "indicador1 = deuda.map(lambda x: x[2]) #se selecciona la columna que hace referencia a DT.AMT.BLAT.CD\r\n",
        "indicador1=indicador1.filter(lambda x_int: x_int.isdigit())\r\n",
        "indicador1=indicador1.map(lambda x: int(x))\r\n",
        "indicador1.mean()\r\n"
      ],
      "execution_count": null,
      "outputs": [
        {
          "output_type": "execute_result",
          "data": {
            "text/plain": [
              "61416650.11111111"
            ]
          },
          "metadata": {
            "tags": []
          },
          "execution_count": 54
        }
      ]
    },
    {
      "cell_type": "code",
      "metadata": {
        "colab": {
          "base_uri": "https://localhost:8080/"
        },
        "id": "S6QXPTL5A-4f",
        "outputId": "ef9ebae1-0773-49bf-a78b-de5f1658ea11"
      },
      "source": [
        "indicador2 = deuda.map(lambda x: x[11]) #se selecciona la columna que hace referencia a DT.DIS.BLAT.CD\r\n",
        "indicador2=indicador2.filter(lambda x_int: x_int.isdigit())\r\n",
        "indicador2=indicador2.map(lambda x: int(x))\r\n",
        "indicador2.mean()"
      ],
      "execution_count": null,
      "outputs": [
        {
          "output_type": "execute_result",
          "data": {
            "text/plain": [
              "506624979.33333343"
            ]
          },
          "metadata": {
            "tags": []
          },
          "execution_count": 56
        }
      ]
    },
    {
      "cell_type": "code",
      "metadata": {
        "colab": {
          "base_uri": "https://localhost:8080/"
        },
        "id": "mLbw59hqBTFj",
        "outputId": "8171ec08-db01-498b-82c8-a51d4445734f"
      },
      "source": [
        "indicador3 = deuda.map(lambda x: x[18]) #se selecciona la columna que hace referencia a DT.INT.BLAT.CD\r\n",
        "indicador3=indicador3.filter(lambda x_int: x_int.isdigit())\r\n",
        "indicador3=indicador3.map(lambda x: int(x))\r\n",
        "indicador3.mean()"
      ],
      "execution_count": null,
      "outputs": [
        {
          "output_type": "execute_result",
          "data": {
            "text/plain": [
              "53762351.333333336"
            ]
          },
          "metadata": {
            "tags": []
          },
          "execution_count": 58
        }
      ]
    },
    {
      "cell_type": "markdown",
      "metadata": {
        "id": "wRuuzwjXy7O0"
      },
      "source": [
        "##### 5. Los 20 paises con DT.AMT.DLXF.CD más alto"
      ]
    },
    {
      "cell_type": "code",
      "metadata": {
        "colab": {
          "base_uri": "https://localhost:8080/"
        },
        "id": "Q2qBOGiIBnh2",
        "outputId": "3f71953b-042b-44e0-8291-6f023fb70fd8"
      },
      "source": [
        "top20 = deuda.map(lambda x: (float(x[3]),x[0])) #se seleccionan las columnas que hacen referencia a DT.AMT.DLXF.CD y al nombre de los paises\r\n",
        "# utilizamos float para transformar los datos y poder operar con ellos\r\n",
        "top20.top(20) #la funcion top mostrará los datos más elevados.\r\n"
      ],
      "execution_count": null,
      "outputs": [
        {
          "output_type": "execute_result",
          "data": {
            "text/plain": [
              "[(96218620835.7, 'China'),\n",
              " (90041840304.1, 'Brazil'),\n",
              " (66589761833.5, 'Russian Federation'),\n",
              " (51555031005.8, 'Turkey'),\n",
              " (48756295898.2, 'South Asia'),\n",
              " (31923507000.8, 'India'),\n",
              " (30916112653.8, 'Indonesia'),\n",
              " (27482093686.4, 'Kazakhstan'),\n",
              " (25218503927.0, 'Mexico'),\n",
              " (25197029299.4, 'Least developed countries: UN classification'),\n",
              " (20483289208.0, 'IDA only'),\n",
              " (14013783350.4, 'Romania'),\n",
              " (11985674438.7, 'Colombia'),\n",
              " (11067045628.1, 'Angola'),\n",
              " (10404814960.2, 'Cameroon'),\n",
              " (9506919669.6, 'Lebanon'),\n",
              " (9474257551.9, 'South Africa'),\n",
              " (8873505909.2, 'Vietnam'),\n",
              " (8336013891.3, 'Pakistan'),\n",
              " (8148995625.6, 'Ukraine')]"
            ]
          },
          "metadata": {
            "tags": []
          },
          "execution_count": 11
        }
      ]
    },
    {
      "cell_type": "markdown",
      "metadata": {
        "id": "oS43Md7ny7O0"
      },
      "source": [
        "##### 6. Pais con los datos informados todos los años."
      ]
    },
    {
      "cell_type": "code",
      "metadata": {
        "colab": {
          "base_uri": "https://localhost:8080/"
        },
        "id": "ykF7ivpbFYKq",
        "outputId": "cb531dad-a016-4248-a331-788ff6d6378a"
      },
      "source": [
        "todos_años = desa_sep.map(lambda x: (x[0],1)).reduceByKey(lambda x,y: x+y).sortBy(lambda x: x[1], False)\r\n",
        "todos_años = todos_años.filter(lambda x: x[1] == 4) #se seleccionará el pais que se repita 4 veces (todos los años)\r\n",
        "todos_años.take(10)"
      ],
      "execution_count": null,
      "outputs": [
        {
          "output_type": "execute_result",
          "data": {
            "text/plain": [
              "[('Malawi', 4)]"
            ]
          },
          "metadata": {
            "tags": []
          },
          "execution_count": 13
        }
      ]
    },
    {
      "cell_type": "markdown",
      "metadata": {
        "id": "7cD-F_E0y7O0"
      },
      "source": [
        "##### 7. Media anual de los distintos indicadores de desarrollo"
      ]
    },
    {
      "cell_type": "markdown",
      "metadata": {
        "id": "msldKMjsM2yZ"
      },
      "source": [
        "Media de la primera variable:\r\n"
      ]
    },
    {
      "cell_type": "code",
      "metadata": {
        "colab": {
          "base_uri": "https://localhost:8080/"
        },
        "id": "XUHTpbbgF-Gw",
        "outputId": "7fe8f35a-2b83-47c8-9beb-cec2fcc6033e"
      },
      "source": [
        "desarrollo1_2014 = desa_sep.filter(lambda x: x[2] == '2014 [YR2014]') #filtro que seleccionará los datos de 2014\r\n",
        "desarrollo1_2014 = desarrollo1_2014.map(lambda x: x[3]) #se selecciona el primer indicador\r\n",
        "desarrollo1_2014=desarrollo1_2014.filter(lambda x_int: x_int.isdigit()) #se transforman los datos para poder hacer la media\r\n",
        "desarrollo1_2014=desarrollo1_2014.map(lambda x: int(x))\r\n",
        "desarrollo1_2014.mean()\r\n"
      ],
      "execution_count": null,
      "outputs": [
        {
          "output_type": "execute_result",
          "data": {
            "text/plain": [
              "116610529707695.64"
            ]
          },
          "metadata": {
            "tags": []
          },
          "execution_count": 21
        }
      ]
    },
    {
      "cell_type": "code",
      "metadata": {
        "colab": {
          "base_uri": "https://localhost:8080/"
        },
        "id": "njneg74eF-LF",
        "outputId": "4389861a-f5f9-4341-94a7-7652961f055b"
      },
      "source": [
        "desarrollo1_2015 = desa_sep.filter(lambda x: x[2] == '2015 [YR2015]') #filtro que seleccionará los datos de 2015\r\n",
        "desarrollo1_2015 = desarrollo1_2015.map(lambda x: x[3]) #se selecciona el primer indicador\r\n",
        "desarrollo1_2015=desarrollo1_2015.filter(lambda x_int: x_int.isdigit()) #se transforman los datos para poder hacer la media\r\n",
        "desarrollo1_2015=desarrollo1_2015.map(lambda x: int(x))\r\n",
        "desarrollo1_2015.mean()"
      ],
      "execution_count": null,
      "outputs": [
        {
          "output_type": "execute_result",
          "data": {
            "text/plain": [
              "184827281799554.75"
            ]
          },
          "metadata": {
            "tags": []
          },
          "execution_count": 22
        }
      ]
    },
    {
      "cell_type": "code",
      "metadata": {
        "colab": {
          "base_uri": "https://localhost:8080/"
        },
        "id": "vRLQyTAFF-O_",
        "outputId": "b88f53c5-b042-44d4-c462-f846b0c104bb"
      },
      "source": [
        "desarrollo1_2016 = desa_sep.filter(lambda x: x[2] == '2016 [YR2016]') #filtro que seleccionará los datos de 2016\r\n",
        "desarrollo1_2016 = desarrollo1_2016.map(lambda x: x[3]) #se selecciona el primer indicador\r\n",
        "desarrollo1_2016=desarrollo1_2016.filter(lambda x_int: x_int.isdigit()) #se transforman los datos para poder hacer la media\r\n",
        "desarrollo1_2016=desarrollo1_2016.map(lambda x: int(x))\r\n",
        "desarrollo1_2016.mean()"
      ],
      "execution_count": null,
      "outputs": [
        {
          "output_type": "execute_result",
          "data": {
            "text/plain": [
              "274875240137558.72"
            ]
          },
          "metadata": {
            "tags": []
          },
          "execution_count": 23
        }
      ]
    },
    {
      "cell_type": "code",
      "metadata": {
        "colab": {
          "base_uri": "https://localhost:8080/"
        },
        "id": "91LGAJ4XR385",
        "outputId": "291e9412-dd8f-46f8-d8f6-1871c537c877"
      },
      "source": [
        "desarrollo1_2017 = desa_sep.filter(lambda x: x[2] == '2017 [YR2017]') #filtro que seleccionará los datos de 2017\r\n",
        "desarrollo1_2017 = desarrollo1_2017.map(lambda x: x[3]) #se selecciona el primer indicador\r\n",
        "desarrollo1_2017.take(10)"
      ],
      "execution_count": null,
      "outputs": [
        {
          "output_type": "execute_result",
          "data": {
            "text/plain": [
              "['2239858619962.69']"
            ]
          },
          "metadata": {
            "tags": []
          },
          "execution_count": 46
        }
      ]
    },
    {
      "cell_type": "markdown",
      "metadata": {
        "id": "SfoVEdZINPjU"
      },
      "source": [
        "Media de la segunda variable:\r\n"
      ]
    },
    {
      "cell_type": "code",
      "metadata": {
        "colab": {
          "base_uri": "https://localhost:8080/"
        },
        "id": "YpobjI3PNeUO",
        "outputId": "618d92da-33f4-45f5-f3be-eb167ea85228"
      },
      "source": [
        "desarrollo2_2014 = desa_sep.filter(lambda x: x[2] == '2014 [YR2014]') #filtro que seleccionará los datos de 2014\r\n",
        "desarrollo2_2014 = desarrollo2_2014.map(lambda x: x[4]) #se selecciona el segundo indicador\r\n",
        "desarrollo2_2014=desarrollo2_2014.map(lambda x: float(x)) #se transforman los datos para poder hacer la media\r\n",
        "desarrollo2_2014.mean()"
      ],
      "execution_count": null,
      "outputs": [
        {
          "output_type": "execute_result",
          "data": {
            "text/plain": [
              "58.15214676864467"
            ]
          },
          "metadata": {
            "tags": []
          },
          "execution_count": 11
        }
      ]
    },
    {
      "cell_type": "code",
      "metadata": {
        "colab": {
          "base_uri": "https://localhost:8080/"
        },
        "id": "CZA1tGqSN0hh",
        "outputId": "77d4a7cb-cdf4-4979-ced3-07316ef55555"
      },
      "source": [
        "desarrollo2_2015 = desa_sep.filter(lambda x: x[2] == '2015 [YR2015]') #filtro que seleccionará los datos de 2014\r\n",
        "desarrollo2_2015 = desarrollo2_2015.map(lambda x: x[4]) #se selecciona el segundo indicador\r\n",
        "desarrollo2_2015=desarrollo2_2015.map(lambda x: float(x)) #se transforman los datos para poder hacer la media\r\n",
        "desarrollo2_2015.mean()"
      ],
      "execution_count": null,
      "outputs": [
        {
          "output_type": "execute_result",
          "data": {
            "text/plain": [
              "59.76292583345264"
            ]
          },
          "metadata": {
            "tags": []
          },
          "execution_count": 12
        }
      ]
    },
    {
      "cell_type": "code",
      "metadata": {
        "colab": {
          "base_uri": "https://localhost:8080/"
        },
        "id": "GnDqz38ZN0qQ",
        "outputId": "c5ff4a91-3a3f-4c75-fb94-28de397342d2"
      },
      "source": [
        "desarrollo2_2016 = desa_sep.filter(lambda x: x[2] == '2016 [YR2016]') #filtro que seleccionará los datos de 2014\r\n",
        "desarrollo2_2016 = desarrollo2_2016.map(lambda x: x[4]) #se selecciona el segundo indicador\r\n",
        "desarrollo2_2016=desarrollo2_2016.map(lambda x: float(x)) #se transforman los datos para poder hacer la media\r\n",
        "desarrollo2_2016.mean()"
      ],
      "execution_count": null,
      "outputs": [
        {
          "output_type": "execute_result",
          "data": {
            "text/plain": [
              "60.44188301621869"
            ]
          },
          "metadata": {
            "tags": []
          },
          "execution_count": 13
        }
      ]
    },
    {
      "cell_type": "code",
      "metadata": {
        "colab": {
          "base_uri": "https://localhost:8080/"
        },
        "id": "4xHLvQQdOv0C",
        "outputId": "93460714-5beb-4620-aeba-f32c9f1ba463"
      },
      "source": [
        "desarrollo2_2017 = desa_sep.filter(lambda x: x[2] == '2017 [YR2017]') #filtro que seleccionará los datos de 2014\r\n",
        "desarrollo2_2017 = desarrollo2_2017.map(lambda x: x[4]) #se selecciona el segundo indicador\r\n",
        "desarrollo2_2017=desarrollo2_2017.map(lambda x: float(x)) #se transforman los datos \r\n",
        "desarrollo2_2017.take(1)"
      ],
      "execution_count": null,
      "outputs": [
        {
          "output_type": "execute_result",
          "data": {
            "text/plain": [
              "[48.659564238322]"
            ]
          },
          "metadata": {
            "tags": []
          },
          "execution_count": 14
        }
      ]
    },
    {
      "cell_type": "markdown",
      "metadata": {
        "id": "sBe1O_mbQeFD"
      },
      "source": [
        "Media de la tercera variable:"
      ]
    },
    {
      "cell_type": "code",
      "metadata": {
        "colab": {
          "base_uri": "https://localhost:8080/"
        },
        "id": "NlBXskNmQg91",
        "outputId": "2ec299c5-8637-455c-9b35-1f0b68c515cd"
      },
      "source": [
        "desarrollo3_2014 = desa_sep.filter(lambda x: x[2] == '2014 [YR2014]') #filtro que seleccionará los datos de 2014\r\n",
        "desarrollo3_2014 = desarrollo3_2014.map(lambda x: x[5]) #se selecciona el tercer indicador\r\n",
        "desarrollo3_2014=desarrollo3_2014.filter(lambda x_int: x_int.isdigit()) #se transforman los datos para poder hacer la media\r\n",
        "desarrollo3_2014=desarrollo3_2014.map(lambda x: int(x))\r\n",
        "desarrollo3_2014.mean()"
      ],
      "execution_count": null,
      "outputs": [
        {
          "output_type": "execute_result",
          "data": {
            "text/plain": [
              "12.333333333333334"
            ]
          },
          "metadata": {
            "tags": []
          },
          "execution_count": 39
        }
      ]
    },
    {
      "cell_type": "code",
      "metadata": {
        "colab": {
          "base_uri": "https://localhost:8080/"
        },
        "id": "mdVhr3A3QhEa",
        "outputId": "daa64941-b988-4ca8-c7e8-89a3670f26ee"
      },
      "source": [
        "desarrollo3_2015 = desa_sep.filter(lambda x: x[2] == '2015 [YR2015]') #filtro que seleccionará los datos de 2014\r\n",
        "desarrollo3_2015 = desarrollo3_2015.map(lambda x: x[5])  #se selecciona el tercer indicador\r\n",
        "desarrollo3_2015=desarrollo3_2015.filter(lambda x_int: x_int.isdigit()) #se transforman los datos para poder hacer la media\r\n",
        "desarrollo3_2015=desarrollo3_2015.map(lambda x: int(x))\r\n",
        "desarrollo3_2015.mean()"
      ],
      "execution_count": null,
      "outputs": [
        {
          "output_type": "execute_result",
          "data": {
            "text/plain": [
              "11.333333333333334"
            ]
          },
          "metadata": {
            "tags": []
          },
          "execution_count": 40
        }
      ]
    },
    {
      "cell_type": "code",
      "metadata": {
        "colab": {
          "base_uri": "https://localhost:8080/"
        },
        "id": "8SKs0nYTQhKj",
        "outputId": "cde1bb7e-e861-4ce8-e6d3-5b2c6f8b1616"
      },
      "source": [
        "desarrollo3_2016 = desa_sep.filter(lambda x: x[2] == '2016 [YR2016]') #filtro que seleccionará los datos de 2014\r\n",
        "desarrollo3_2016 = desarrollo3_2016.map(lambda x: x[5])  #se selecciona el tercer indicador\r\n",
        "desarrollo3_2016=desarrollo3_2016.filter(lambda x_int: x_int.isdigit()) #se transforman los datos para poder hacer la media\r\n",
        "desarrollo3_2016=desarrollo3_2016.map(lambda x: int(x))\r\n",
        "desarrollo3_2016.mean()"
      ],
      "execution_count": null,
      "outputs": [
        {
          "output_type": "execute_result",
          "data": {
            "text/plain": [
              "19.0"
            ]
          },
          "metadata": {
            "tags": []
          },
          "execution_count": 41
        }
      ]
    },
    {
      "cell_type": "code",
      "metadata": {
        "colab": {
          "base_uri": "https://localhost:8080/"
        },
        "id": "S4wBRAwERZfn",
        "outputId": "9dc1183c-f333-4560-bc3c-6c8a4cf42733"
      },
      "source": [
        "desarrollo3_2017 = desa_sep.filter(lambda x: x[2] == '2017 [YR2017]') #filtro que seleccionará los datos de 2014\r\n",
        "desarrollo3_2017 = desarrollo3_2017.map(lambda x: x[5])  #se selecciona el tercer indicador\r\n",
        "desarrollo3_2017.take(10)"
      ],
      "execution_count": null,
      "outputs": [
        {
          "output_type": "execute_result",
          "data": {
            "text/plain": [
              "['34.593']"
            ]
          },
          "metadata": {
            "tags": []
          },
          "execution_count": 44
        }
      ]
    },
    {
      "cell_type": "markdown",
      "metadata": {
        "id": "jAzMVvPNy7O1"
      },
      "source": [
        "##### 8. Podrías decirme el total de deuda acumulada DT.AMT.MLAT.CD por los 10 países con un valor en media menor de SP.DYN.CBRT.IN"
      ]
    },
    {
      "cell_type": "code",
      "metadata": {
        "colab": {
          "base_uri": "https://localhost:8080/"
        },
        "id": "vxzSozmGTWnL",
        "outputId": "1060f9b1-3217-4172-e612-ba5a9a5889bb"
      },
      "source": [
        "nacimientos = desa_sep.map(lambda x: x[5])\r\n",
        "nacimientos=nacimientos.filter(lambda x_int: x_int.isdigit()) #se transforman los datos para poder hacer la media\r\n",
        "nacimientos=nacimientos.map(lambda x: int(x))\r\n",
        "nacimientos.mean()"
      ],
      "execution_count": null,
      "outputs": [
        {
          "output_type": "execute_result",
          "data": {
            "text/plain": [
              "13.625"
            ]
          },
          "metadata": {
            "tags": []
          },
          "execution_count": 16
        }
      ]
    },
    {
      "cell_type": "code",
      "metadata": {
        "colab": {
          "base_uri": "https://localhost:8080/"
        },
        "id": "DLBYtwSrZo6z",
        "outputId": "066b487b-dfaf-4682-c0b2-b5257f347321"
      },
      "source": [
        "natalidad_por_pais = desa_sep.filter(lambda x: x[2] == '2016 [YR2016]')\r\n",
        "natalidad_por_pais = natalidad_por_pais.map(lambda x: (float(x[5]),x[0]))\r\n",
        "natalidad_por_pais.takeOrdered(10, key = lambda x: x[0])"
      ],
      "execution_count": null,
      "outputs": [
        {
          "output_type": "execute_result",
          "data": {
            "text/plain": [
              "[(7.8, 'Japan'),\n",
              " (7.9, 'San Marino'),\n",
              " (8.8, 'Spain'),\n",
              " (9.4, 'Singapore'),\n",
              " (9.7, 'Hungary'),\n",
              " (10.3, 'Ukraine'),\n",
              " (10.445, 'Moldova'),\n",
              " (10.5, 'Switzerland'),\n",
              " (11.8, 'United Kingdom'),\n",
              " (12.0, 'Palau')]"
            ]
          },
          "metadata": {
            "tags": []
          },
          "execution_count": 25
        }
      ]
    },
    {
      "cell_type": "markdown",
      "metadata": {
        "id": "QFbQ4e4UjzMr"
      },
      "source": [
        "De los 10 paises cuya tasa de natalidad es menor que la media, soo Ucrania y Moldavia aparecen en el dataset \"deuda\". Por lo tanto, se estudiará solamente la deuda acumulada de estos dos paises. "
      ]
    },
    {
      "cell_type": "code",
      "metadata": {
        "colab": {
          "base_uri": "https://localhost:8080/"
        },
        "id": "311IsK-ygdm1",
        "outputId": "bbe01b85-4735-45db-d155-40d22ca7274c"
      },
      "source": [
        "Ukraine = deuda.filter(lambda x: 'Ukraine' in x[0])\r\n",
        "deuda_acumulada = Ukraine.map(lambda x: (float(x[5]), x[0]))\r\n",
        "deuda_acumulada.take(1)"
      ],
      "execution_count": 12,
      "outputs": [
        {
          "output_type": "execute_result",
          "data": {
            "text/plain": [
              "[(1072472830.3, 'Ukraine')]"
            ]
          },
          "metadata": {
            "tags": []
          },
          "execution_count": 12
        }
      ]
    },
    {
      "cell_type": "code",
      "metadata": {
        "colab": {
          "base_uri": "https://localhost:8080/"
        },
        "id": "882jX6yIioiK",
        "outputId": "50ea5899-f658-43a8-b7a8-949c5a0dd65c"
      },
      "source": [
        "Moldova = deuda.filter(lambda x: 'Moldova' in x[0])\r\n",
        "deuda_acumulada = Moldova.map(lambda x: (float(x[5]), x[0]))\r\n",
        "deuda_acumulada.take(1)"
      ],
      "execution_count": 13,
      "outputs": [
        {
          "output_type": "execute_result",
          "data": {
            "text/plain": [
              "[(135842865.5, 'Moldova')]"
            ]
          },
          "metadata": {
            "tags": []
          },
          "execution_count": 13
        }
      ]
    },
    {
      "cell_type": "markdown",
      "metadata": {
        "id": "h-hH1vqDy7O1"
      },
      "source": [
        "##### 9. ¿Hay alguna relación entre los nacimientos y el indicador DT.AMT.DLXF.CD? ¿Cómo podrías demostrarlo?"
      ]
    }
  ]
}