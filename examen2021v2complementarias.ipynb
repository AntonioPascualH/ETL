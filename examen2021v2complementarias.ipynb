{
  "nbformat": 4,
  "nbformat_minor": 0,
  "metadata": {
    "kernelspec": {
      "display_name": "Python 3",
      "language": "python",
      "name": "python3"
    },
    "language_info": {
      "codemirror_mode": {
        "name": "ipython",
        "version": 3
      },
      "file_extension": ".py",
      "mimetype": "text/x-python",
      "name": "python",
      "nbconvert_exporter": "python",
      "pygments_lexer": "ipython3",
      "version": "3.7.4"
    },
    "toc": {
      "base_numbering": 1,
      "nav_menu": {},
      "number_sections": true,
      "sideBar": true,
      "skip_h1_title": false,
      "title_cell": "Table of Contents",
      "title_sidebar": "Contents",
      "toc_cell": false,
      "toc_position": {},
      "toc_section_display": true,
      "toc_window_display": true
    },
    "colab": {
      "name": "examen2021v2.ipynb",
      "provenance": [],
      "collapsed_sections": []
    }
  },
  "cells": [
    {
      "cell_type": "markdown",
      "metadata": {
        "id": "kerMbhYZvf2g"
      },
      "source": [
        "01/02/2021\r\n",
        "\r\n",
        "Antonio Pascual Hernández"
      ]
    },
    {
      "cell_type": "markdown",
      "metadata": {
        "id": "Do6v7fN7u4OP"
      },
      "source": [
        "# TAREA FINAL: Datos de vivienda\n",
        "\n",
        "<p> El negocio inmobiliario es uno de los motores de la economía de España, el carácter turístico de nuesta península hace que sean muchos los inversores extranjeros que se decidan por buscar una inversión de bajo riesgos en nuestras ciudades costeras o grandes urbes. \n",
        "Muchas de estas inversiones se hacen sobre grandes bolsas de inmuebles que deben ser analizados previamente para comprobar la rentabilidad del porfolio </p>\n",
        "\n",
        "<!-- <p> En este caso vamos a trabajar con una tabla que contienen información de distintos inmuebles repartidos por una zona específica, sus carácterísticas y su precio </p>  -->"
      ]
    },
    {
      "cell_type": "markdown",
      "metadata": {
        "id": "euetpMVVu4OZ"
      },
      "source": [
        "Todas las cuestiones se deben realizar sobre el conjunto de casos que representen viviendas ubicadas en zonas residenciales **(alta, media y baja densidad)**"
      ]
    },
    {
      "cell_type": "markdown",
      "metadata": {
        "id": "8CPCh4mbu4Oa"
      },
      "source": [
        "**MUY IMPORTANTE:** En las otras prácticas he detectado colaboraciones involucrando varias personas y he sido flexible aunque a algunos os lo he mencionado en las correcciones, porque al final el trabajo de analista de datos es un trabajo colaborativo. Sin embargo, este trabajo es individual, así que cuidado con las colaboraciones."
      ]
    },
    {
      "cell_type": "markdown",
      "metadata": {
        "id": "L6T-zN6qu4Ob"
      },
      "source": [
        "Las variables de las que se compone el dataset son:"
      ]
    },
    {
      "cell_type": "markdown",
      "metadata": {
        "id": "vMFtM_o8u4Oc"
      },
      "source": [
        "|NOMBRE VARIABLE|DESCRIPTOR|VALORES|\n",
        "| --- | --- | --- |\n",
        "|Order|Variable de identificación|1 a 2930|\n",
        "|MS Zoning|Zona de ubicación de la vivienda|\"A rural, C comercial, FV residencial flotante, I industrial, RH residencial alta densidad, RL residencial baja densidad, RM residencial media densidad\"|\n",
        "|Lot Frontage|Longitud de la fachada en pies||\n",
        "|Lot Area|Superficie de la vivienda en pies cuadrados||\n",
        "|Land Contour|Contorno del terreno circundante|\"Lvl llano, Bnk Tipo bancal, HLS Ladera, Low Depresión\"|\n",
        "|Land Slope|Tipo de pendiente de la vivienda|\" Gtl pendiente suave, Mod pendiente moderada, Sev fuerte pendiente\"|\n",
        "|Overall Qual|Grado de calidad de materiales y acabado de la vivienda|De 1 (Muy pobre) a 10 (Excelente)|\n",
        "|Year Built|Año de construccion de la vivienda||\n",
        "|Year Remod/Add|Año de última reforma de la vivienda||\n",
        "|Mas Vnr Type|Tipo de revestimiento exterior|\" BrkCmn Ladrillo normal, BrkFace Ladrillo visto, CBlock Bloque de cemento, None Ninguna, Stone Piedra \"|\n",
        "|Exter Qual|Calidad de revestimiento exterior|\"Ex Excelente,Gd Bueno,TA Media,Fa Justo\"|\n",
        "|Bsmt Cond|Estado general del sótano|\"Ex Excelente, Gd Bueno, TA Media, Fa Justo, Po Pobre,Ss sin sótano\"|\n",
        "|Total Bsmt SF|Superficie del sótano en pies cuadrados|\n",
        "|Heating QC|Calidad de la calefacción|\"Ex Excelente,Gd Bueno,TA Media,Fa Justo,Po Pobre\"|\n",
        "|Central Air|Aire acondicionado centralizado|\"N No Y Sí\"|\n",
        "|Full Bath|Número de baños completo en planta||\n",
        "|Half Bath|Número de aseos en planta||\n",
        "|Bedroom AbvGr|Número de dormitorios en planta||\n",
        "|Kitchen AbvGr|Número de cocinas en planta||\n",
        "|Kitchen Qual|Calidad de cocinas|\"Ex Excelente,Gd Bueno,TA Media,Fa Justo,Po Pobre\"|\n",
        "|TotRms AbvGrd|Número total de habitaciones excluidos los cuartos de baño||\n",
        "|Garage Cars|Número de plazas de garaje||\n",
        "|Garage Area|Superficie del garaje|||\n",
        "|Garage Cond|Estado del garaje|\"Ex Excelente,Gd Bueno,TA Media,Fa Justo,Po Pobre,Sg sin garaje\"|\n",
        "|Pool Area|Superficie de la piscina en pies cuadrados|\n",
        "|Pool QC|Calidad de la piscina|\"Ex Excelente,Gd Bueno,TA Media,Fa Justo,Sp no hay piscina\"|\n",
        "|Mo Sold|mes de venta||\n",
        "|Yr Sold|año de venta||\n",
        "|SalePrice|precio de venta en dólares||"
      ]
    },
    {
      "cell_type": "markdown",
      "metadata": {
        "id": "dLcNc0SGu4Od"
      },
      "source": [
        "Recomiendo al leer los datos, eliminar espacios de los nombres de las columnas, realiza un pequeño análisis inicial de los mismos. No olvides fijarte en los tipos de variables, que variables pueden tener tipos confundidos y corrige los. Sobre todo, trabaja con las fechas."
      ]
    },
    {
      "cell_type": "markdown",
      "metadata": {
        "id": "_wNCsHpnu4Od"
      },
      "source": [
        "**NOTA:** Las tareas complementarias sirven para subir nota. El resto de preguntas valen igual y suman 10 puntos."
      ]
    },
    {
      "cell_type": "markdown",
      "metadata": {
        "id": "c_nlyXCnu4Od"
      },
      "source": [
        "## Inicializar y cargar el contexto spark"
      ]
    },
    {
      "cell_type": "code",
      "metadata": {
        "id": "z0NDRaD_Shiy"
      },
      "source": [
        "import pandas as pd #se carga pandas\r\n",
        "import numpy as np #se carga numpy"
      ],
      "execution_count": 12,
      "outputs": []
    },
    {
      "cell_type": "code",
      "metadata": {
        "id": "j4pPB6eEvAr8"
      },
      "source": [
        "!apt-get install openjdk-8-jdk-headless -qq > /dev/null\r\n",
        "!wget -q https://www-us.apache.org/dist/spark/spark-2.4.7/spark-2.4.7-bin-hadoop2.7.tgz\r\n",
        "!tar xf spark-2.4.7-bin-hadoop2.7.tgz #d\r\n",
        "!pip install -q findspark \r\n",
        "\r\n",
        "import os\r\n",
        "os.environ[\"JAVA_HOME\"] = \"/usr/lib/jvm/java-8-openjdk-amd64\"\r\n",
        "os.environ[\"SPARK_HOME\"] = \"/content/spark-2.4.7-bin-hadoop2.7\"\r\n",
        "\r\n",
        "import findspark\r\n",
        "findspark.init()\r\n",
        "from pyspark import SparkContext\r\n",
        "sc = SparkContext()\r\n",
        "from pyspark.sql import SparkSession\r\n",
        "spark = SparkSession.builder.master(\"local[*]\").getOrCreate()"
      ],
      "execution_count": 1,
      "outputs": []
    },
    {
      "cell_type": "code",
      "metadata": {
        "id": "_-NaSxzuvvwM",
        "colab": {
          "base_uri": "https://localhost:8080/"
        },
        "outputId": "381eb93d-d0cb-4fac-cdfe-cfe9beb001a5"
      },
      "source": [
        "vivienda = sc.textFile(\"BDpracticafinalCSV.csv\") #se importan los datos\r\n",
        "vivienda = vivienda.map(lambda x: x.split(\";\")) #separamos por el punto y coma\r\n",
        "header = vivienda.first()\r\n",
        "vivienda = vivienda.filter(lambda x: x != header) #eliminamos la primera fila, que hace referencia al encabezado\r\n",
        "vivienda.take(5)"
      ],
      "execution_count": 2,
      "outputs": [
        {
          "output_type": "execute_result",
          "data": {
            "text/plain": [
              "[['1',\n",
              "  'RL',\n",
              "  '141',\n",
              "  '31770',\n",
              "  'Lvl',\n",
              "  'Gtl',\n",
              "  '6',\n",
              "  '1960',\n",
              "  '1960',\n",
              "  'Stone',\n",
              "  'TA',\n",
              "  'Gd',\n",
              "  '1080',\n",
              "  'Fa',\n",
              "  'Y',\n",
              "  '1',\n",
              "  '0',\n",
              "  '3',\n",
              "  '1',\n",
              "  'TA',\n",
              "  '7',\n",
              "  '2',\n",
              "  '528',\n",
              "  'TA',\n",
              "  '0',\n",
              "  'Sp',\n",
              "  '5',\n",
              "  '2010',\n",
              "  '215000'],\n",
              " ['2',\n",
              "  'RH',\n",
              "  '80',\n",
              "  '11622',\n",
              "  'Lvl',\n",
              "  'Gtl',\n",
              "  '5',\n",
              "  '1961',\n",
              "  '1961',\n",
              "  'None',\n",
              "  'TA',\n",
              "  'TA',\n",
              "  '882',\n",
              "  'TA',\n",
              "  'Y',\n",
              "  '1',\n",
              "  '0',\n",
              "  '2',\n",
              "  '1',\n",
              "  'TA',\n",
              "  '5',\n",
              "  '1',\n",
              "  '730',\n",
              "  'TA',\n",
              "  '0',\n",
              "  'Sp',\n",
              "  '6',\n",
              "  '2010',\n",
              "  '105000'],\n",
              " ['3',\n",
              "  'RL',\n",
              "  '81',\n",
              "  '14267',\n",
              "  'Lvl',\n",
              "  'Gtl',\n",
              "  '6',\n",
              "  '1958',\n",
              "  '1958',\n",
              "  'BrkFace',\n",
              "  'TA',\n",
              "  'TA',\n",
              "  '1329',\n",
              "  'TA',\n",
              "  'Y',\n",
              "  '1',\n",
              "  '1',\n",
              "  '3',\n",
              "  '1',\n",
              "  'Gd',\n",
              "  '6',\n",
              "  '1',\n",
              "  '312',\n",
              "  'TA',\n",
              "  '0',\n",
              "  'Sp',\n",
              "  '6',\n",
              "  '2010',\n",
              "  '172000'],\n",
              " ['4',\n",
              "  'RL',\n",
              "  '93',\n",
              "  '11160',\n",
              "  'Lvl',\n",
              "  'Gtl',\n",
              "  '7',\n",
              "  '1968',\n",
              "  '1968',\n",
              "  'None',\n",
              "  'Gd',\n",
              "  'TA',\n",
              "  '2110',\n",
              "  'Ex',\n",
              "  'Y',\n",
              "  '2',\n",
              "  '1',\n",
              "  '3',\n",
              "  '1',\n",
              "  'Ex',\n",
              "  '8',\n",
              "  '2',\n",
              "  '522',\n",
              "  'TA',\n",
              "  '0',\n",
              "  'Sp',\n",
              "  '4',\n",
              "  '2010',\n",
              "  '244000'],\n",
              " ['5',\n",
              "  'RL',\n",
              "  '74',\n",
              "  '13830',\n",
              "  'Lvl',\n",
              "  'Gtl',\n",
              "  '5',\n",
              "  '1997',\n",
              "  '1998',\n",
              "  'None',\n",
              "  'TA',\n",
              "  'TA',\n",
              "  '928',\n",
              "  'Gd',\n",
              "  'Y',\n",
              "  '2',\n",
              "  '1',\n",
              "  '3',\n",
              "  '1',\n",
              "  'TA',\n",
              "  '6',\n",
              "  '2',\n",
              "  '482',\n",
              "  'TA',\n",
              "  '0',\n",
              "  'Sp',\n",
              "  '3',\n",
              "  '2010',\n",
              "  '189900']]"
            ]
          },
          "metadata": {
            "tags": []
          },
          "execution_count": 2
        }
      ]
    },
    {
      "cell_type": "code",
      "metadata": {
        "id": "S6KVw5BA_Fk7",
        "colab": {
          "base_uri": "https://localhost:8080/",
          "height": 243
        },
        "outputId": "8cf083f1-0167-4bb5-ef82-a674992c75be"
      },
      "source": [
        "pd_vivienda = pd.read_csv(\"BDpracticafinalCSV.csv\", delimiter = ';') #se carga el dataset con pandas\r\n",
        "pd_vivienda.head(5)"
      ],
      "execution_count": 13,
      "outputs": [
        {
          "output_type": "execute_result",
          "data": {
            "text/html": [
              "<div>\n",
              "<style scoped>\n",
              "    .dataframe tbody tr th:only-of-type {\n",
              "        vertical-align: middle;\n",
              "    }\n",
              "\n",
              "    .dataframe tbody tr th {\n",
              "        vertical-align: top;\n",
              "    }\n",
              "\n",
              "    .dataframe thead th {\n",
              "        text-align: right;\n",
              "    }\n",
              "</style>\n",
              "<table border=\"1\" class=\"dataframe\">\n",
              "  <thead>\n",
              "    <tr style=\"text-align: right;\">\n",
              "      <th></th>\n",
              "      <th>Order</th>\n",
              "      <th>MS Zoning</th>\n",
              "      <th>Lot Frontage</th>\n",
              "      <th>Lot Area</th>\n",
              "      <th>Land Contour</th>\n",
              "      <th>Land Slope</th>\n",
              "      <th>Overall Qual</th>\n",
              "      <th>Year Built</th>\n",
              "      <th>Year Remod/Add</th>\n",
              "      <th>Mas Vnr Type</th>\n",
              "      <th>Exter Qual</th>\n",
              "      <th>Bsmt Cond</th>\n",
              "      <th>Total Bsmt SF</th>\n",
              "      <th>Heating QC</th>\n",
              "      <th>Central Air</th>\n",
              "      <th>Full Bath</th>\n",
              "      <th>Half Bath</th>\n",
              "      <th>Bedroom AbvGr</th>\n",
              "      <th>Kitchen AbvGr</th>\n",
              "      <th>Kitchen Qual</th>\n",
              "      <th>TotRms AbvGrd</th>\n",
              "      <th>Garage Cars</th>\n",
              "      <th>Garage Area</th>\n",
              "      <th>Garage Cond</th>\n",
              "      <th>Pool Area</th>\n",
              "      <th>Pool QC</th>\n",
              "      <th>Mo Sold</th>\n",
              "      <th>Yr Sold</th>\n",
              "      <th>SalePrice</th>\n",
              "    </tr>\n",
              "  </thead>\n",
              "  <tbody>\n",
              "    <tr>\n",
              "      <th>0</th>\n",
              "      <td>1</td>\n",
              "      <td>RL</td>\n",
              "      <td>141.0</td>\n",
              "      <td>31770</td>\n",
              "      <td>Lvl</td>\n",
              "      <td>Gtl</td>\n",
              "      <td>6</td>\n",
              "      <td>1960</td>\n",
              "      <td>1960</td>\n",
              "      <td>Stone</td>\n",
              "      <td>TA</td>\n",
              "      <td>Gd</td>\n",
              "      <td>1080</td>\n",
              "      <td>Fa</td>\n",
              "      <td>Y</td>\n",
              "      <td>1</td>\n",
              "      <td>0</td>\n",
              "      <td>3</td>\n",
              "      <td>1</td>\n",
              "      <td>TA</td>\n",
              "      <td>7</td>\n",
              "      <td>2.0</td>\n",
              "      <td>528.0</td>\n",
              "      <td>TA</td>\n",
              "      <td>0</td>\n",
              "      <td>Sp</td>\n",
              "      <td>5</td>\n",
              "      <td>2010</td>\n",
              "      <td>215000</td>\n",
              "    </tr>\n",
              "    <tr>\n",
              "      <th>1</th>\n",
              "      <td>2</td>\n",
              "      <td>RH</td>\n",
              "      <td>80.0</td>\n",
              "      <td>11622</td>\n",
              "      <td>Lvl</td>\n",
              "      <td>Gtl</td>\n",
              "      <td>5</td>\n",
              "      <td>1961</td>\n",
              "      <td>1961</td>\n",
              "      <td>None</td>\n",
              "      <td>TA</td>\n",
              "      <td>TA</td>\n",
              "      <td>882</td>\n",
              "      <td>TA</td>\n",
              "      <td>Y</td>\n",
              "      <td>1</td>\n",
              "      <td>0</td>\n",
              "      <td>2</td>\n",
              "      <td>1</td>\n",
              "      <td>TA</td>\n",
              "      <td>5</td>\n",
              "      <td>1.0</td>\n",
              "      <td>730.0</td>\n",
              "      <td>TA</td>\n",
              "      <td>0</td>\n",
              "      <td>Sp</td>\n",
              "      <td>6</td>\n",
              "      <td>2010</td>\n",
              "      <td>105000</td>\n",
              "    </tr>\n",
              "    <tr>\n",
              "      <th>2</th>\n",
              "      <td>3</td>\n",
              "      <td>RL</td>\n",
              "      <td>81.0</td>\n",
              "      <td>14267</td>\n",
              "      <td>Lvl</td>\n",
              "      <td>Gtl</td>\n",
              "      <td>6</td>\n",
              "      <td>1958</td>\n",
              "      <td>1958</td>\n",
              "      <td>BrkFace</td>\n",
              "      <td>TA</td>\n",
              "      <td>TA</td>\n",
              "      <td>1329</td>\n",
              "      <td>TA</td>\n",
              "      <td>Y</td>\n",
              "      <td>1</td>\n",
              "      <td>1</td>\n",
              "      <td>3</td>\n",
              "      <td>1</td>\n",
              "      <td>Gd</td>\n",
              "      <td>6</td>\n",
              "      <td>1.0</td>\n",
              "      <td>312.0</td>\n",
              "      <td>TA</td>\n",
              "      <td>0</td>\n",
              "      <td>Sp</td>\n",
              "      <td>6</td>\n",
              "      <td>2010</td>\n",
              "      <td>172000</td>\n",
              "    </tr>\n",
              "    <tr>\n",
              "      <th>3</th>\n",
              "      <td>4</td>\n",
              "      <td>RL</td>\n",
              "      <td>93.0</td>\n",
              "      <td>11160</td>\n",
              "      <td>Lvl</td>\n",
              "      <td>Gtl</td>\n",
              "      <td>7</td>\n",
              "      <td>1968</td>\n",
              "      <td>1968</td>\n",
              "      <td>None</td>\n",
              "      <td>Gd</td>\n",
              "      <td>TA</td>\n",
              "      <td>2110</td>\n",
              "      <td>Ex</td>\n",
              "      <td>Y</td>\n",
              "      <td>2</td>\n",
              "      <td>1</td>\n",
              "      <td>3</td>\n",
              "      <td>1</td>\n",
              "      <td>Ex</td>\n",
              "      <td>8</td>\n",
              "      <td>2.0</td>\n",
              "      <td>522.0</td>\n",
              "      <td>TA</td>\n",
              "      <td>0</td>\n",
              "      <td>Sp</td>\n",
              "      <td>4</td>\n",
              "      <td>2010</td>\n",
              "      <td>244000</td>\n",
              "    </tr>\n",
              "    <tr>\n",
              "      <th>4</th>\n",
              "      <td>5</td>\n",
              "      <td>RL</td>\n",
              "      <td>74.0</td>\n",
              "      <td>13830</td>\n",
              "      <td>Lvl</td>\n",
              "      <td>Gtl</td>\n",
              "      <td>5</td>\n",
              "      <td>1997</td>\n",
              "      <td>1998</td>\n",
              "      <td>None</td>\n",
              "      <td>TA</td>\n",
              "      <td>TA</td>\n",
              "      <td>928</td>\n",
              "      <td>Gd</td>\n",
              "      <td>Y</td>\n",
              "      <td>2</td>\n",
              "      <td>1</td>\n",
              "      <td>3</td>\n",
              "      <td>1</td>\n",
              "      <td>TA</td>\n",
              "      <td>6</td>\n",
              "      <td>2.0</td>\n",
              "      <td>482.0</td>\n",
              "      <td>TA</td>\n",
              "      <td>0</td>\n",
              "      <td>Sp</td>\n",
              "      <td>3</td>\n",
              "      <td>2010</td>\n",
              "      <td>189900</td>\n",
              "    </tr>\n",
              "  </tbody>\n",
              "</table>\n",
              "</div>"
            ],
            "text/plain": [
              "   Order MS Zoning  Lot Frontage  Lot Area  ... Pool QC Mo Sold  Yr Sold  SalePrice\n",
              "0      1        RL         141.0     31770  ...      Sp       5     2010     215000\n",
              "1      2        RH          80.0     11622  ...      Sp       6     2010     105000\n",
              "2      3        RL          81.0     14267  ...      Sp       6     2010     172000\n",
              "3      4        RL          93.0     11160  ...      Sp       4     2010     244000\n",
              "4      5        RL          74.0     13830  ...      Sp       3     2010     189900\n",
              "\n",
              "[5 rows x 29 columns]"
            ]
          },
          "metadata": {
            "tags": []
          },
          "execution_count": 13
        }
      ]
    },
    {
      "cell_type": "markdown",
      "metadata": {
        "id": "wbhYlIqK6jaC"
      },
      "source": [
        "A continución se seleccionarán las observaciones correspondientes a viviendas ubicadas en zonas residenciales (alta, media y baja densidad)."
      ]
    },
    {
      "cell_type": "code",
      "metadata": {
        "id": "6SlaigteFcV-"
      },
      "source": [
        "pd_vivienda[\"MS Zoning\"].unique()"
      ],
      "execution_count": null,
      "outputs": []
    },
    {
      "cell_type": "markdown",
      "metadata": {
        "id": "upo5QrMdFiHh"
      },
      "source": [
        "En cuanto a las observaciones de las zonas residenciales de baja densidad, se encuentran 3 opciones distintas (categorías): RL, Rl y rL. Por lo tanto, se deberá tener en cuenta a la hora de seleccionar las variables."
      ]
    },
    {
      "cell_type": "code",
      "metadata": {
        "id": "COg0rLP3DGm6"
      },
      "source": [
        "bajo = vivienda.filter(lambda x: x[1] == 'RL') #filtro que selecciona las zonas residenciales de baja densidad\r\n",
        "alto = vivienda.filter(lambda x: x[1] == 'RH') #filtro que selecciona las zonas residenciales de alta densidad\r\n",
        "medio = vivienda.filter(lambda x: x[1] == 'RM') #filtro que selecciona las zonas residenciales de media densidad\r\n",
        "bajo1 = vivienda.filter(lambda x: x[1] == 'Rl')\r\n",
        "bajo2 = vivienda.filter(lambda x: x[1] == 'rL')"
      ],
      "execution_count": 3,
      "outputs": []
    },
    {
      "cell_type": "markdown",
      "metadata": {
        "id": "y4SLn7976o_o"
      },
      "source": [
        "Se unen los diferentes objetos de las zonas, y se observa como ha quedado brevemente."
      ]
    },
    {
      "cell_type": "code",
      "metadata": {
        "id": "9llBnoqMFh9c"
      },
      "source": [
        "residencia = bajo.union(alto) #se unen las observaciones obtenidas de los filtros anteriores\r\n",
        "residencia2 = residencia.union(medio)\r\n",
        "residencia3 = residencia2.union(bajo1)\r\n",
        "vivienda = residencia3.union(bajo2)"
      ],
      "execution_count": 4,
      "outputs": []
    },
    {
      "cell_type": "markdown",
      "metadata": {
        "id": "dZMP9eTWu4Oe"
      },
      "source": [
        "## Cuántas viviendas distintas encontramos en el dataset? ¿Se repite alguna? Tiene sentido que haya duplicadas? ¿Qué podemos hacer con las duplicadas?"
      ]
    },
    {
      "cell_type": "code",
      "metadata": {
        "id": "UwnOh50ew1k0",
        "colab": {
          "base_uri": "https://localhost:8080/"
        },
        "outputId": "80fa2698-18f8-4b4d-d0df-6eefb627d90a"
      },
      "source": [
        "vivienda.count() #Se utiliza la función count() para obtener el número de viviendas."
      ],
      "execution_count": null,
      "outputs": [
        {
          "output_type": "execute_result",
          "data": {
            "text/plain": [
              "2768"
            ]
          },
          "metadata": {
            "tags": []
          },
          "execution_count": 9
        }
      ]
    },
    {
      "cell_type": "code",
      "metadata": {
        "colab": {
          "base_uri": "https://localhost:8080/"
        },
        "id": "MgBgjaO4VjTu",
        "outputId": "c3095e01-f54a-4803-b4df-ebf74cdaa9e2"
      },
      "source": [
        "len(pd_vivienda)-len(pd_vivienda.drop_duplicates()) #se utiliza pandas para obtener los duplicados"
      ],
      "execution_count": null,
      "outputs": [
        {
          "output_type": "execute_result",
          "data": {
            "text/plain": [
              "6"
            ]
          },
          "metadata": {
            "tags": []
          },
          "execution_count": 10
        }
      ]
    },
    {
      "cell_type": "markdown",
      "metadata": {
        "id": "uWbw5v7c8_50"
      },
      "source": [
        "Se obtienen 6 duplicados del dataset completo. \r\n",
        "Si podría tener sentido que hubiese duplicados. Se podría pensar que existan viviendas de una misma urbanización o edificio, lo que implicaría que sus caracterísitcas podrían ser iguales."
      ]
    },
    {
      "cell_type": "markdown",
      "metadata": {
        "id": "AI3_0as_u4Oe"
      },
      "source": [
        "## ¿Podrías decirme el total de inmuebles y el precio medio (Sale Price) de cada zona (MS Zoning)?"
      ]
    },
    {
      "cell_type": "markdown",
      "metadata": {
        "id": "OHinGXCm8y0x"
      },
      "source": [
        "Baja densidad:"
      ]
    },
    {
      "cell_type": "code",
      "metadata": {
        "id": "evvDdJsAUclu"
      },
      "source": [
        "baja1 = bajo.union(bajo1)\r\n",
        "baja2 = baja1.union(bajo2)"
      ],
      "execution_count": null,
      "outputs": []
    },
    {
      "cell_type": "code",
      "metadata": {
        "colab": {
          "base_uri": "https://localhost:8080/"
        },
        "id": "5HGW-KpwXKcH",
        "outputId": "ba6d379a-6087-413f-b647-de44f59ffa92"
      },
      "source": [
        "baja_densidad = baja2.map(lambda x: (x[28]))\r\n",
        "baja_densidad = baja_densidad.filter(lambda x_int: x_int.isdigit())\r\n",
        "baja_densidad = baja_densidad.map(lambda x: float(x))\r\n",
        "baja_densidad.mean(), baja_densidad.count()"
      ],
      "execution_count": null,
      "outputs": [
        {
          "output_type": "execute_result",
          "data": {
            "text/plain": [
              "(191412.6068451076, 2279)"
            ]
          },
          "metadata": {
            "tags": []
          },
          "execution_count": 52
        }
      ]
    },
    {
      "cell_type": "markdown",
      "metadata": {
        "id": "Xv716JXWWDWi"
      },
      "source": [
        "Viviendas de baja densidad: 2279\r\n",
        "\r\n",
        "Precio media de baja densidad: 191412.61$"
      ]
    },
    {
      "cell_type": "markdown",
      "metadata": {
        "id": "YRzGNugpQGDY"
      },
      "source": [
        "Media densidad:"
      ]
    },
    {
      "cell_type": "code",
      "metadata": {
        "colab": {
          "base_uri": "https://localhost:8080/"
        },
        "id": "rC8lyjoEXn38",
        "outputId": "7d0de587-13c5-4d56-b802-eae45c85c73f"
      },
      "source": [
        "media_densidad = medio.map(lambda x: (x[28]))\r\n",
        "media_densidad = media_densidad.filter(lambda x_int: x_int.isdigit())\r\n",
        "media_densidad = media_densidad.map(lambda x: float(x))\r\n",
        "media_densidad.mean(), media_densidad.count()"
      ],
      "execution_count": null,
      "outputs": [
        {
          "output_type": "execute_result",
          "data": {
            "text/plain": [
              "(126781.39393939397, 462)"
            ]
          },
          "metadata": {
            "tags": []
          },
          "execution_count": 48
        }
      ]
    },
    {
      "cell_type": "markdown",
      "metadata": {
        "id": "uS9ozX7ZW9or"
      },
      "source": [
        "Viviendas de media densidad: 462\r\n",
        "\r\n",
        "Precio media de media densidad: 126781.39$"
      ]
    },
    {
      "cell_type": "markdown",
      "metadata": {
        "id": "6APUC5JsQHwH"
      },
      "source": [
        "Zona RH:"
      ]
    },
    {
      "cell_type": "code",
      "metadata": {
        "colab": {
          "base_uri": "https://localhost:8080/"
        },
        "id": "CcOb_GYaXrw-",
        "outputId": "8f2fe213-2520-473b-c989-3891b5f330ce"
      },
      "source": [
        "alta_densidad = alto.map(lambda x: (x[28]))\r\n",
        "alta_densidad = alta_densidad.filter(lambda x_int: x_int.isdigit())\r\n",
        "alta_densidad = alta_densidad.map(lambda x: float(x))\r\n",
        "\r\n",
        "alta_densidad.mean(), alta_densidad.count()"
      ],
      "execution_count": null,
      "outputs": [
        {
          "output_type": "execute_result",
          "data": {
            "text/plain": [
              "(136419.77777777778, 27)"
            ]
          },
          "metadata": {
            "tags": []
          },
          "execution_count": 49
        }
      ]
    },
    {
      "cell_type": "markdown",
      "metadata": {
        "id": "8lVZM-pIQQlS"
      },
      "source": [
        "Viviendas de media densidad: 27\r\n",
        "\r\n",
        "Precio media de media densidad: 136419.78$"
      ]
    },
    {
      "cell_type": "markdown",
      "metadata": {
        "id": "eGbJxGZCu4Of"
      },
      "source": [
        "## Media de Total Bsmt SF por cada década de construcción calculada a partir de Year Built. \n",
        "## ¿Cuál es la decada de construcción con viviendas mejor acondicionadas para el frío (Heating QC)?"
      ]
    },
    {
      "cell_type": "code",
      "metadata": {
        "id": "jGJzlxKfcJG7"
      },
      "source": [
        "def get_decade(x):\r\n",
        "    return x[0] + x[1] + x[2] + \"0s\" #se define la función que obtendrá las decadas. Como podrías coincidir decadas si solo tenemos en cuenta los dos últimos digitos, se seleccionan todos los digitos del numero (1980 = 80s, 1880 = 80s )"
      ],
      "execution_count": null,
      "outputs": []
    },
    {
      "cell_type": "code",
      "metadata": {
        "colab": {
          "base_uri": "https://localhost:8080/"
        },
        "id": "C0YHcqWx_f8-",
        "outputId": "d96065cd-10cd-424c-8d7a-c7943acd4d2f"
      },
      "source": [
        "excelente = vivienda.filter(lambda x: (x[13]== \"Ex\")) #se seleccionan las observaciones cuyas condiciones de acondicionamiento sean excelentes\r\n",
        "excelente = excelente.map(lambda x: ( x[13], get_decade(x[7])))\r\n",
        "excelente = excelente.map( lambda x: (x[1],x[0]))\r\n",
        "excelente.countByKey()"
      ],
      "execution_count": null,
      "outputs": [
        {
          "output_type": "execute_result",
          "data": {
            "text/plain": [
              "defaultdict(int,\n",
              "            {'1880s': 2,\n",
              "             '1890s': 4,\n",
              "             '1900s': 12,\n",
              "             '1910s': 38,\n",
              "             '1920s': 51,\n",
              "             '1930s': 40,\n",
              "             '1940s': 56,\n",
              "             '1950s': 98,\n",
              "             '1960s': 88,\n",
              "             '1970s': 68,\n",
              "             '1980s': 28,\n",
              "             '1990s': 235,\n",
              "             '2000s': 641,\n",
              "             '2010s': 2})"
            ]
          },
          "metadata": {
            "tags": []
          },
          "execution_count": 77
        }
      ]
    },
    {
      "cell_type": "markdown",
      "metadata": {
        "id": "ia5s23rCH0ks"
      },
      "source": [
        "La década con viviendas mejor acondicionadas es la década de los 2000s"
      ]
    },
    {
      "cell_type": "markdown",
      "metadata": {
        "id": "MgTy9nBgu4Of"
      },
      "source": [
        "## ¿Cuáles son las 10 viviendas que se vendieron por un precio más elevado por metro cuadrado en el año 2009?"
      ]
    },
    {
      "cell_type": "code",
      "metadata": {
        "colab": {
          "base_uri": "https://localhost:8080/"
        },
        "id": "F_qm7FXEPoSm",
        "outputId": "0bba5d92-c711-4359-c4ca-092ecda2184a"
      },
      "source": [
        "venta2009 = vivienda.filter(lambda x: x[27] == '2009') #se seleccionan las viviendas que se vendieron en 2009\r\n",
        "\r\n",
        "mascaras = venta2009.map(lambda x: (x[27], [float(x[28]), float(x[3]) * 0.09290304])) #como un pie cuadrado = 0.09290304 metros cuadrados, se multiplicarán los datos de la columna \"Lot Area\" por ese valor\r\n",
        "\r\n",
        "mascaras.map(lambda x: [x[0],x[1][0]/x[1][1]]).top(10) #listado de las 10 viviendas más caras por metro cuadrado"
      ],
      "execution_count": null,
      "outputs": [
        {
          "output_type": "execute_result",
          "data": {
            "text/plain": [
              "[['2009', 1026.7114551323118],\n",
              " ['2009', 991.0320746567418],\n",
              " ['2009', 821.056658770186],\n",
              " ['2009', 807.9610176314369],\n",
              " ['2009', 765.6471992838166],\n",
              " ['2009', 756.0365649831829],\n",
              " ['2009', 717.5940277806482],\n",
              " ['2009', 714.2814183044536],\n",
              " ['2009', 711.1869382468924],\n",
              " ['2009', 701.0704810883306]]"
            ]
          },
          "metadata": {
            "tags": []
          },
          "execution_count": 11
        }
      ]
    },
    {
      "cell_type": "markdown",
      "metadata": {
        "id": "tmHP2h_cu4Of"
      },
      "source": [
        "## Media anual por zonas del precio de venta y metros cuadrados."
      ]
    },
    {
      "cell_type": "markdown",
      "metadata": {
        "id": "yRWmbdC4NuCX"
      },
      "source": [
        "Media precio de venta en zona RM:"
      ]
    },
    {
      "cell_type": "code",
      "metadata": {
        "colab": {
          "base_uri": "https://localhost:8080/"
        },
        "id": "yqCVd87HN019",
        "outputId": "c0487582-b890-46b1-ad75-8cd9890f43d9"
      },
      "source": [
        "pd_vivienda['Yr Sold'].unique()"
      ],
      "execution_count": null,
      "outputs": [
        {
          "output_type": "execute_result",
          "data": {
            "text/plain": [
              "array([2010, 2009, 2008, 2007, 2006])"
            ]
          },
          "metadata": {
            "tags": []
          },
          "execution_count": 12
        }
      ]
    },
    {
      "cell_type": "markdown",
      "metadata": {
        "id": "Qx6i6eDrJSai"
      },
      "source": [
        "Para las zonas de baja densidad (RL):\r\n",
        "\r\n",
        "Se mostrarán 5 grupos de datos (desde 2010 a 2006), donde el primer dato indicará la media del precio de venta, y el segundo indica la media de los metros cuadrados."
      ]
    },
    {
      "cell_type": "code",
      "metadata": {
        "id": "SOonqzZxY4yD"
      },
      "source": [
        "baja = bajo.union(bajo1)\r\n",
        "bajadensidad = baja.union(bajo2)"
      ],
      "execution_count": null,
      "outputs": []
    },
    {
      "cell_type": "code",
      "metadata": {
        "id": "T3gqBxRiJj7V"
      },
      "source": [
        "RLventa2010 = bajadensidad.filter(lambda x: x[27] == '2010')\r\n",
        "RLventa2009 = bajadensidad.filter(lambda x: x[27] == '2009')\r\n",
        "RLventa2008 = bajadensidad.filter(lambda x: x[27] == '2008')\r\n",
        "RLventa2007 = bajadensidad.filter(lambda x: x[27] == '2007')\r\n",
        "RLventa2006 = bajadensidad.filter(lambda x: x[27] == '2006')"
      ],
      "execution_count": null,
      "outputs": []
    },
    {
      "cell_type": "code",
      "metadata": {
        "colab": {
          "base_uri": "https://localhost:8080/"
        },
        "id": "sXGkf9cOJopg",
        "outputId": "2bbb2fc9-1f37-41cd-9bad-e12209445eeb"
      },
      "source": [
        "precioRL2010 = RLventa2010.map(lambda x: int(x[28]))\r\n",
        "metrosRL2010 = RLventa2010.map(lambda x: float(x[3]) * 0.09290304)\r\n",
        "precioRL2010.mean(), metrosRL2010.mean()"
      ],
      "execution_count": null,
      "outputs": [
        {
          "output_type": "execute_result",
          "data": {
            "text/plain": [
              "(184978.41897233203, 1011.35975210751)"
            ]
          },
          "metadata": {
            "tags": []
          },
          "execution_count": 15
        }
      ]
    },
    {
      "cell_type": "code",
      "metadata": {
        "colab": {
          "base_uri": "https://localhost:8080/"
        },
        "id": "Q45NYqaFJo2s",
        "outputId": "cb448b50-0013-4ee4-81a1-f8239e2281c6"
      },
      "source": [
        "precioRL2009 = RLventa2009.map(lambda x: int(x[28]))\r\n",
        "metrosRL2009 = RLventa2009.map(lambda x: float(x[3]) * 0.09290304)\r\n",
        "precioRL2009.mean(), metrosRL2009.mean()"
      ],
      "execution_count": null,
      "outputs": [
        {
          "output_type": "execute_result",
          "data": {
            "text/plain": [
              "(190455.5508637236, 1002.1845004873709)"
            ]
          },
          "metadata": {
            "tags": []
          },
          "execution_count": 16
        }
      ]
    },
    {
      "cell_type": "code",
      "metadata": {
        "colab": {
          "base_uri": "https://localhost:8080/"
        },
        "id": "MUQUQelhJu7P",
        "outputId": "643ac364-9a87-4660-d0c8-010004ae7b8b"
      },
      "source": [
        "precioRL2008 = RLventa2008.map(lambda x: int(x[28]))\r\n",
        "metrosRL2008 = RLventa2008.map(lambda x: float(x[3]) * 0.09290304)\r\n",
        "precioRL2008.mean(), metrosRL2008.mean()"
      ],
      "execution_count": null,
      "outputs": [
        {
          "output_type": "execute_result",
          "data": {
            "text/plain": [
              "(189885.5851528385, 1047.653788615546)"
            ]
          },
          "metadata": {
            "tags": []
          },
          "execution_count": 17
        }
      ]
    },
    {
      "cell_type": "code",
      "metadata": {
        "colab": {
          "base_uri": "https://localhost:8080/"
        },
        "id": "cWq7wOXTJvFe",
        "outputId": "2c8584ba-17b4-4371-9aea-5aecc0585910"
      },
      "source": [
        "precioRL2007 = RLventa2007.map(lambda x: int(x[28]))\r\n",
        "metrosRL2007 = RLventa2007.map(lambda x: float(x[3]) * 0.09290304)\r\n",
        "precioRL2007.mean(), metrosRL2007.mean()"
      ],
      "execution_count": null,
      "outputs": [
        {
          "output_type": "execute_result",
          "data": {
            "text/plain": [
              "(193399.98014440428, 1059.6784023578332)"
            ]
          },
          "metadata": {
            "tags": []
          },
          "execution_count": 18
        }
      ]
    },
    {
      "cell_type": "code",
      "metadata": {
        "colab": {
          "base_uri": "https://localhost:8080/"
        },
        "id": "LyqrOqZ4JvMd",
        "outputId": "a334d89e-58a4-4079-e3ef-7c48d6c5a4a9"
      },
      "source": [
        "precioRL2006 = RLventa2006.map(lambda x: int(x[28]))\r\n",
        "metrosRL2006 = RLventa2006.map(lambda x: float(x[3]) * 0.09290304)\r\n",
        "precioRL2006.mean(), metrosRL2006.mean()"
      ],
      "execution_count": null,
      "outputs": [
        {
          "output_type": "execute_result",
          "data": {
            "text/plain": [
              "(194911.2819472616, 1043.6889575698176)"
            ]
          },
          "metadata": {
            "tags": []
          },
          "execution_count": 19
        }
      ]
    },
    {
      "cell_type": "markdown",
      "metadata": {
        "id": "Gl4We0JCZjcC"
      },
      "source": [
        "Para las zonas de media densidad (RM):\r\n",
        "\r\n",
        "Se mostrarán 5 grupos de datos (desde 2010 a 2016), donde el primer dato indicará la media del precio de venta, y el segundo indica la media de los metros cuadrados."
      ]
    },
    {
      "cell_type": "code",
      "metadata": {
        "id": "n0PBC_k0KGpB"
      },
      "source": [
        "RMventa2010 = medio.filter(lambda x: x[27] == '2010')\r\n",
        "RMventa2009 = medio.filter(lambda x: x[27] == '2009')\r\n",
        "RMventa2008 = medio.filter(lambda x: x[27] == '2008')\r\n",
        "RMventa2007 = medio.filter(lambda x: x[27] == '2007')\r\n",
        "RMventa2006 = medio.filter(lambda x: x[27] == '2006')"
      ],
      "execution_count": null,
      "outputs": []
    },
    {
      "cell_type": "code",
      "metadata": {
        "colab": {
          "base_uri": "https://localhost:8080/"
        },
        "id": "Ku4Iy9uGKG8t",
        "outputId": "a0f941d9-f9ca-4074-8784-02d599dcfa2f"
      },
      "source": [
        "precioRM2010 = RMventa2010.map(lambda x: int(x[28]))\r\n",
        "metrosRM2010 = RMventa2010.map(lambda x: float(x[3]) * 0.09290304)\r\n",
        "precioRM2010.mean(), metrosRM2010.mean()"
      ],
      "execution_count": null,
      "outputs": [
        {
          "output_type": "execute_result",
          "data": {
            "text/plain": [
              "(119681.70689655174, 586.1044562648276)"
            ]
          },
          "metadata": {
            "tags": []
          },
          "execution_count": 21
        }
      ]
    },
    {
      "cell_type": "code",
      "metadata": {
        "colab": {
          "base_uri": "https://localhost:8080/"
        },
        "id": "ckefm7YtKHKB",
        "outputId": "3f3443a9-3d86-4156-86c5-a990dfb27ca1"
      },
      "source": [
        "precioRM2009 = RMventa2009.map(lambda x: int(x[28]))\r\n",
        "metrosRM2009 = RMventa2009.map(lambda x: float(x[3]) * 0.09290304)\r\n",
        "precioRM2009.mean(), metrosRM2009.mean()"
      ],
      "execution_count": null,
      "outputs": [
        {
          "output_type": "execute_result",
          "data": {
            "text/plain": [
              "(118759.86904761905, 552.5563142400001)"
            ]
          },
          "metadata": {
            "tags": []
          },
          "execution_count": 22
        }
      ]
    },
    {
      "cell_type": "code",
      "metadata": {
        "colab": {
          "base_uri": "https://localhost:8080/"
        },
        "id": "AIiGqn1qKHTm",
        "outputId": "7d38252f-8a85-47dd-c757-a0fe67192f37"
      },
      "source": [
        "precioRM2008 = RMventa2008.map(lambda x: int(x[28]))\r\n",
        "metrosRM2008 = RMventa2008.map(lambda x: float(x[3]) * 0.09290304)\r\n",
        "precioRM2008.mean(), metrosRM2008.mean()"
      ],
      "execution_count": null,
      "outputs": [
        {
          "output_type": "execute_result",
          "data": {
            "text/plain": [
              "(133336.1219512195, 623.6694371590244)"
            ]
          },
          "metadata": {
            "tags": []
          },
          "execution_count": 23
        }
      ]
    },
    {
      "cell_type": "code",
      "metadata": {
        "colab": {
          "base_uri": "https://localhost:8080/"
        },
        "id": "7QltSCaVKHcO",
        "outputId": "98eede44-baf8-4948-c94a-07853135e389"
      },
      "source": [
        "precioRM2007 = RMventa2007.map(lambda x: int(x[28]))\r\n",
        "metrosRM2007 = RMventa2007.map(lambda x: float(x[3]) * 0.09290304)\r\n",
        "precioRM2007.mean(), metrosRM2007.mean()"
      ],
      "execution_count": null,
      "outputs": [
        {
          "output_type": "execute_result",
          "data": {
            "text/plain": [
              "(128947.62105263153, 625.4486913751578)"
            ]
          },
          "metadata": {
            "tags": []
          },
          "execution_count": 24
        }
      ]
    },
    {
      "cell_type": "code",
      "metadata": {
        "colab": {
          "base_uri": "https://localhost:8080/"
        },
        "id": "BX4cQsj0KHkG",
        "outputId": "aed1e63f-9b61-4b40-a04f-a9c245e8cb9d"
      },
      "source": [
        "precioRM2006 = RMventa2006.map(lambda x: int(x[28]))\r\n",
        "metrosRM2006 = RMventa2006.map(lambda x: float(x[3]) * 0.09290304)\r\n",
        "precioRM2006.mean(), metrosRM2006.mean()"
      ],
      "execution_count": null,
      "outputs": [
        {
          "output_type": "execute_result",
          "data": {
            "text/plain": [
              "(127502.63725490194, 575.0142579388239)"
            ]
          },
          "metadata": {
            "tags": []
          },
          "execution_count": 26
        }
      ]
    },
    {
      "cell_type": "markdown",
      "metadata": {
        "id": "jC6dkIJjZnHM"
      },
      "source": [
        "Para las zonas de alta densidad (RH):\r\n",
        "\r\n",
        "Se mostrarán 5 grupos de datos (desde 2010 a 2016), donde el primer dato indicará la media del precio de venta, y el segundo indica la media de los metros cuadrados."
      ]
    },
    {
      "cell_type": "code",
      "metadata": {
        "id": "qXwEQo22Ku2g"
      },
      "source": [
        "RHventa2010 = alto.filter(lambda x: x[27] == '2010')\r\n",
        "RHventa2009 = alto.filter(lambda x: x[27] == '2009')\r\n",
        "RHventa2008 = alto.filter(lambda x: x[27] == '2008')\r\n",
        "RHventa2007 = alto.filter(lambda x: x[27] == '2007')\r\n",
        "RHventa2006 = alto.filter(lambda x: x[27] == '2006')"
      ],
      "execution_count": null,
      "outputs": []
    },
    {
      "cell_type": "code",
      "metadata": {
        "colab": {
          "base_uri": "https://localhost:8080/"
        },
        "id": "bg0Q__acKu_y",
        "outputId": "912ff345-4361-4bef-9c24-140e492486d9"
      },
      "source": [
        "precioRH2010 = RHventa2010.map(lambda x: int(x[28]))\r\n",
        "metrosRH2010 = RHventa2010.map(lambda x: float(x[3]) * 0.09290304)\r\n",
        "precioRH2010.mean(), metrosRH2010.mean()"
      ],
      "execution_count": null,
      "outputs": [
        {
          "output_type": "execute_result",
          "data": {
            "text/plain": [
              "(126280.0, 753.0348810240001)"
            ]
          },
          "metadata": {
            "tags": []
          },
          "execution_count": 28
        }
      ]
    },
    {
      "cell_type": "code",
      "metadata": {
        "colab": {
          "base_uri": "https://localhost:8080/"
        },
        "id": "H9hsrNEnKvHq",
        "outputId": "fbaec7c2-da5c-4338-a318-e62dff00ddb1"
      },
      "source": [
        "precioRH2009 = RHventa2009.map(lambda x: int(x[28]))\r\n",
        "metrosRH2009 = RHventa2009.map(lambda x: float(x[3]) * 0.09290304)\r\n",
        "precioRH2009.mean(), metrosRH2009.mean()"
      ],
      "execution_count": null,
      "outputs": [
        {
          "output_type": "execute_result",
          "data": {
            "text/plain": [
              "(116206.8, 647.143996032)"
            ]
          },
          "metadata": {
            "tags": []
          },
          "execution_count": 29
        }
      ]
    },
    {
      "cell_type": "code",
      "metadata": {
        "colab": {
          "base_uri": "https://localhost:8080/"
        },
        "id": "vzbdvAlCKvPm",
        "outputId": "50136d46-5079-4185-ecb2-8a6a9503fcd3"
      },
      "source": [
        "precioRH2008 = RHventa2008.map(lambda x: int(x[28]))\r\n",
        "metrosRH2008 = RHventa2008.map(lambda x: float(x[3]) * 0.09290304)\r\n",
        "precioRH2008.mean(), metrosRH2008.mean()"
      ],
      "execution_count": null,
      "outputs": [
        {
          "output_type": "execute_result",
          "data": {
            "text/plain": [
              "(150333.33333333334, 766.1404032)"
            ]
          },
          "metadata": {
            "tags": []
          },
          "execution_count": 30
        }
      ]
    },
    {
      "cell_type": "code",
      "metadata": {
        "colab": {
          "base_uri": "https://localhost:8080/"
        },
        "id": "DCOMReEvKvX1",
        "outputId": "4a99e15d-d453-4fd9-ad42-6927ca0dd348"
      },
      "source": [
        "precioRH2007 = RHventa2007.map(lambda x: int(x[28]))\r\n",
        "metrosRH2007 = RHventa2007.map(lambda x: float(x[3]) * 0.09290304)\r\n",
        "precioRH2007.mean(), metrosRH2007.mean()"
      ],
      "execution_count": null,
      "outputs": [
        {
          "output_type": "execute_result",
          "data": {
            "text/plain": [
              "(147250.0, 651.31998768)"
            ]
          },
          "metadata": {
            "tags": []
          },
          "execution_count": 31
        }
      ]
    },
    {
      "cell_type": "code",
      "metadata": {
        "colab": {
          "base_uri": "https://localhost:8080/"
        },
        "id": "t4ovkLREKvqy",
        "outputId": "5d2468f2-e7b0-4822-a17d-49075aca3020"
      },
      "source": [
        "precioRH2006 = RHventa2006.map(lambda x: int(x[28]))\r\n",
        "metrosRH2006 = RHventa2006.map(lambda x: float(x[3]) * 0.09290304)\r\n",
        "precioRH2006.mean(), metrosRH2006.mean()"
      ],
      "execution_count": null,
      "outputs": [
        {
          "output_type": "execute_result",
          "data": {
            "text/plain": [
              "(140316.66666666666, 659.56513248)"
            ]
          },
          "metadata": {
            "tags": []
          },
          "execution_count": 32
        }
      ]
    },
    {
      "cell_type": "markdown",
      "metadata": {
        "id": "BMmfV7xDu4Og"
      },
      "source": [
        "## ¿Podrías decirme el total de recaudación de las casas de revistimiento (Mas Vnr Type) de piedra con respecto a las de ladrillo? ¿Hay diferencia significativa?"
      ]
    },
    {
      "cell_type": "code",
      "metadata": {
        "colab": {
          "base_uri": "https://localhost:8080/"
        },
        "id": "MStBCDIvMVJs",
        "outputId": "913602d5-6c37-4548-dc47-904a7bbfcc85"
      },
      "source": [
        "pd_vivienda['Mas Vnr Type'].unique()"
      ],
      "execution_count": null,
      "outputs": [
        {
          "output_type": "execute_result",
          "data": {
            "text/plain": [
              "array(['Stone', 'None', 'BrkFace', nan, 'BrkCmn', 'CBlock'], dtype=object)"
            ]
          },
          "metadata": {
            "tags": []
          },
          "execution_count": 33
        }
      ]
    },
    {
      "cell_type": "code",
      "metadata": {
        "id": "4lIeo_vrInSi"
      },
      "source": [
        "stone = vivienda.filter(lambda x: x[9] == 'Stone') #se seleccionan las viviendas con revestimiento de piedra\r\n",
        "brick = vivienda.filter(lambda x: x[9] == 'BrkFace' or 'BrkCmn') #se seleccionan las viviendas con revestimiento de ladrillo"
      ],
      "execution_count": null,
      "outputs": []
    },
    {
      "cell_type": "code",
      "metadata": {
        "id": "IVEUY0zmPdqI",
        "colab": {
          "base_uri": "https://localhost:8080/"
        },
        "outputId": "bdf9aaeb-6f81-43b7-8aab-f0d413591be6"
      },
      "source": [
        "stone = stone.map(lambda x: (x[28]))\r\n",
        "stone = stone.filter(lambda x_int: x_int.isdigit())\r\n",
        "stone = stone.map(lambda x: int(x))\r\n",
        "stone.sum(), stone.count()"
      ],
      "execution_count": null,
      "outputs": [
        {
          "output_type": "execute_result",
          "data": {
            "text/plain": [
              "(60495477, 230)"
            ]
          },
          "metadata": {
            "tags": []
          },
          "execution_count": 36
        }
      ]
    },
    {
      "cell_type": "code",
      "metadata": {
        "colab": {
          "base_uri": "https://localhost:8080/"
        },
        "id": "Pf21smOBPkqK",
        "outputId": "f56fc869-13e7-46ee-f9ea-e4b993913a63"
      },
      "source": [
        "brick = brick.map(lambda x: (x[28]))\r\n",
        "brick = brick.filter(lambda x_int: x_int.isdigit())\r\n",
        "brick = brick.map(lambda x: int(x))\r\n",
        "brick.sum(), brick.count()"
      ],
      "execution_count": null,
      "outputs": [
        {
          "output_type": "execute_result",
          "data": {
            "text/plain": [
              "(498485669, 2768)"
            ]
          },
          "metadata": {
            "tags": []
          },
          "execution_count": 37
        }
      ]
    },
    {
      "cell_type": "markdown",
      "metadata": {
        "id": "F5LzwPuKNJa_"
      },
      "source": [
        "Hay una diferencia significativa entre el total de recaudación de las viviendas de de revestimiento de piedra y revestimiento de ladrillo. Esto se podría deber a que existen muchas más viviendas con revistimiento de ladrillo (2768) que viviendas con revestimiento de piedra (230)."
      ]
    },
    {
      "cell_type": "markdown",
      "metadata": {
        "id": "ysWewnZcu4Og"
      },
      "source": [
        "## ¿Cuánto son más caras las viviendas con 2 cocinas, con 2 o más plazas de garaje que las que tienen 1 cocina y 1 plaza de garaje? Comparar medias y cuartiles de ambos casos"
      ]
    },
    {
      "cell_type": "code",
      "metadata": {
        "id": "7WBg30PHLyht"
      },
      "source": [
        "doscocinas = vivienda.filter(lambda x: x[18] == '2' and x [21] == '2' or '3' or '4' or '5') #se seleccionan las viviendas con 2 cocinas y 2 o más plazas de garaje\r\n",
        "doscocinas = doscocinas.map(lambda x: (x[28]))\r\n",
        "doscocinas = doscocinas.filter(lambda x_int: x_int.isdigit())\r\n",
        "doscocinas = doscocinas.map(lambda x: int(x))"
      ],
      "execution_count": null,
      "outputs": []
    },
    {
      "cell_type": "code",
      "metadata": {
        "id": "GlWV1lcgKGbp"
      },
      "source": [
        "unacocina = vivienda.filter(lambda x: x[18] == '1' and x [21] == '1') #se seleccionan las viviendas con 1 cocina y 1 plaza de garaje\r\n",
        "unacocina = unacocina.map(lambda x: (x[28]))\r\n",
        "unacocina = unacocina.filter(lambda x_int: x_int.isdigit())\r\n",
        "unacocina = unacocina.map(lambda x: int(x))"
      ],
      "execution_count": null,
      "outputs": []
    },
    {
      "cell_type": "code",
      "metadata": {
        "colab": {
          "base_uri": "https://localhost:8080/"
        },
        "id": "12SqChPwMkRz",
        "outputId": "31970c26-e8a9-48e7-d2ad-8a22050c5af8"
      },
      "source": [
        "doscocinas.mean() - unacocina.mean()"
      ],
      "execution_count": null,
      "outputs": [
        {
          "output_type": "execute_result",
          "data": {
            "text/plain": [
              "51966.75987396165"
            ]
          },
          "metadata": {
            "tags": []
          },
          "execution_count": 45
        }
      ]
    },
    {
      "cell_type": "markdown",
      "metadata": {
        "id": "g-R8ugGuPSUy"
      },
      "source": [
        "Si se comparan las medias del precio de las viviendas con 2 cocinas y con 2 o más plazas de garaje con la media de las viviendas con una cocina y 1 plaza de garaje, se observa que el primer tipo de viviendas son,de media, 51966.76$ más caras que las viviendas del segundo tipo."
      ]
    },
    {
      "cell_type": "markdown",
      "metadata": {
        "id": "Fkpx0NGxu4Og"
      },
      "source": [
        "## (COMPLEMENTARIA) Estudiar la relación entre el precio y el número de Garajes. (Recomiendo segmentar precio por cuartiles y estudiar el número de casos coincidentes)"
      ]
    },
    {
      "cell_type": "code",
      "metadata": {
        "colab": {
          "base_uri": "https://localhost:8080/"
        },
        "id": "Rgmlhi3Eprli",
        "outputId": "bceeabab-0f7c-4ffe-ffb5-4a555344c09a"
      },
      "source": [
        "pd_vivienda['Garage Cars'].unique()"
      ],
      "execution_count": 14,
      "outputs": [
        {
          "output_type": "execute_result",
          "data": {
            "text/plain": [
              "array([ 2.,  1.,  3.,  0.,  4.,  5., nan])"
            ]
          },
          "metadata": {
            "tags": []
          },
          "execution_count": 14
        }
      ]
    },
    {
      "cell_type": "code",
      "metadata": {
        "id": "404GcGgop3iD"
      },
      "source": [
        "nogarage = vivienda.filter(lambda x: (x[21] == \"0\")).map(lambda x: (int(x[28])))\r\n",
        "unaplaza = vivienda.filter(lambda x: (x[21]== \"1\")).map(lambda x: (int(x[28])))\r\n",
        "dosplazas = vivienda.filter(lambda x: (x[21]== \"2\")).map(lambda x: (int(x[28])))\r\n",
        "tresplazas = vivienda.filter(lambda x: (x[21]== \"3\")).map(lambda x: (int(x[28])))\r\n",
        "cuatroplazas = vivienda.filter(lambda x: (x[21]== \"4\")).map(lambda x: (int(x[28])))\r\n",
        "cincoplazas = vivienda.filter(lambda x: (x[21]== \"5\")).map(lambda x: (int(x[28])))"
      ],
      "execution_count": 17,
      "outputs": []
    },
    {
      "cell_type": "code",
      "metadata": {
        "colab": {
          "base_uri": "https://localhost:8080/"
        },
        "id": "NTkYiqcMqLlc",
        "outputId": "84ebd94f-6139-4686-b790-068e575d98a1"
      },
      "source": [
        "nogarage.mean(), nogarage.count()"
      ],
      "execution_count": 20,
      "outputs": [
        {
          "output_type": "execute_result",
          "data": {
            "text/plain": [
              "(107023.63945578231, 147)"
            ]
          },
          "metadata": {
            "tags": []
          },
          "execution_count": 20
        }
      ]
    },
    {
      "cell_type": "code",
      "metadata": {
        "colab": {
          "base_uri": "https://localhost:8080/"
        },
        "id": "AFclgbTvqZz6",
        "outputId": "a491169e-0fcc-4310-d366-fc79ef19e945"
      },
      "source": [
        "unaplaza.mean(), unaplaza.count()"
      ],
      "execution_count": 21,
      "outputs": [
        {
          "output_type": "execute_result",
          "data": {
            "text/plain": [
              "(128011.65575916233, 764)"
            ]
          },
          "metadata": {
            "tags": []
          },
          "execution_count": 21
        }
      ]
    },
    {
      "cell_type": "code",
      "metadata": {
        "colab": {
          "base_uri": "https://localhost:8080/"
        },
        "id": "XbN5pvBCqaBX",
        "outputId": "11228a33-710a-4093-f46e-b57b2ea4deb7"
      },
      "source": [
        "dosplazas.mean(), dosplazas.count()"
      ],
      "execution_count": 19,
      "outputs": [
        {
          "output_type": "execute_result",
          "data": {
            "text/plain": [
              "(181890.0931802836, 1481)"
            ]
          },
          "metadata": {
            "tags": []
          },
          "execution_count": 19
        }
      ]
    },
    {
      "cell_type": "code",
      "metadata": {
        "colab": {
          "base_uri": "https://localhost:8080/"
        },
        "id": "Rogp0V4Oqab3",
        "outputId": "26ab25e2-1d98-4f2a-da80-6cd553509caf"
      },
      "source": [
        "tresplazas.mean(), tresplazas.count()"
      ],
      "execution_count": 22,
      "outputs": [
        {
          "output_type": "execute_result",
          "data": {
            "text/plain": [
              "(311831.48882681574, 358)"
            ]
          },
          "metadata": {
            "tags": []
          },
          "execution_count": 22
        }
      ]
    },
    {
      "cell_type": "code",
      "metadata": {
        "colab": {
          "base_uri": "https://localhost:8080/"
        },
        "id": "k4OpDjZcqalD",
        "outputId": "0490136c-edd8-40dc-e743-822f7b8ecfa1"
      },
      "source": [
        "cuatroplazas.mean(), cuatroplazas.count()"
      ],
      "execution_count": 23,
      "outputs": [
        {
          "output_type": "execute_result",
          "data": {
            "text/plain": [
              "(228748.6875, 16)"
            ]
          },
          "metadata": {
            "tags": []
          },
          "execution_count": 23
        }
      ]
    },
    {
      "cell_type": "code",
      "metadata": {
        "colab": {
          "base_uri": "https://localhost:8080/"
        },
        "id": "R3siB2YfqatW",
        "outputId": "31ba28c5-2d0b-41bc-dc4b-35d2ec6de381"
      },
      "source": [
        "cincoplazas.mean(), cincoplazas.count()"
      ],
      "execution_count": 24,
      "outputs": [
        {
          "output_type": "execute_result",
          "data": {
            "text/plain": [
              "(126500.0, 1)"
            ]
          },
          "metadata": {
            "tags": []
          },
          "execution_count": 24
        }
      ]
    },
    {
      "cell_type": "markdown",
      "metadata": {
        "id": "52Vr2b5Oq6y6"
      },
      "source": [
        "No se puede establecer una relación clara entre el precio de las viviendas y el número de plazas de garajes. Lo normal sería pensar que a más plazas de garaje, mayor sería el precio de la vivienda, pero si se comparan los pecio medios de las viviendas por plazas de garaje, se observa que el precio va aumentando hasta las tres plazas, pero el precio medio de las viviendas con 4 plazas es menor.\r\n"
      ]
    },
    {
      "cell_type": "markdown",
      "metadata": {
        "id": "wwEd1BpAu4Oh"
      },
      "source": [
        "## (COMPLEMENTARIA) Las 10 viviendas con mejores servicios y mejor precio."
      ]
    },
    {
      "cell_type": "markdown",
      "metadata": {
        "id": "u1S-VGINu4Oh"
      },
      "source": [
        "### Pista:\n",
        "#### Calcula las variables: \n",
        "- Número de servicios excelentes\n",
        "- Número de servicios buenos\n",
        "...\n",
        "\n",
        "#### Tendréis que tener en cuenta también variables como número de baños Full Bath, cocinas Kitchen AbvGr o dormitorios Bedroom AbvGr. Generando por ejemplo (número de estas variables por encima de media)\n",
        "\n",
        "#### Finalmente precio de venta"
      ]
    },
    {
      "cell_type": "code",
      "metadata": {
        "colab": {
          "base_uri": "https://localhost:8080/"
        },
        "id": "LWhnQaecm7KU",
        "outputId": "d0817546-a4b1-4990-9063-0ee9f2a78734"
      },
      "source": [
        "mejor = vivienda.filter(lambda x: (x[6] in ('8', '9', '10'))) #grado de calidad de los materiales\r\n",
        "mejor1 = mejor.filter(lambda x: (x[10] in (\"Ex\", 'Gd'))) #calidad del revestimiento\r\n",
        "mejor2 = mejor1.filter(lambda x: (x[13] in (\"Ex\", 'Gd'))) #calidad de calefacción\r\n",
        "mejor3 = mejor2.filter(lambda x: (x[19] in (\"Ex\", 'Gd'))) #calidad cocina\r\n",
        "\r\n",
        "mejores = mejor3.map(lambda x: (float(x[28]),x[7]))\r\n",
        "\r\n",
        "mejores.takeOrdered(10, key = lambda x: x[0])"
      ],
      "execution_count": 11,
      "outputs": [
        {
          "output_type": "execute_result",
          "data": {
            "text/plain": [
              "[(147000.0, '2006'),\n",
              " (160000.0, '2008'),\n",
              " (162500.0, '1989'),\n",
              " (168000.0, '1882'),\n",
              " (170000.0, '1986'),\n",
              " (178000.0, '2004'),\n",
              " (179900.0, '2007'),\n",
              " (180000.0, '1993'),\n",
              " (180000.0, '1992'),\n",
              " (180500.0, '2001')]"
            ]
          },
          "metadata": {
            "tags": []
          },
          "execution_count": 11
        }
      ]
    }
  ]
}